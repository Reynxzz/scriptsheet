{
 "cells": [
  {
   "cell_type": "code",
   "execution_count": 1,
   "id": "c2818a93-7454-4263-9ca9-5e28f77650ed",
   "metadata": {
    "tags": []
   },
   "outputs": [],
   "source": [
    "import pandas as pd"
   ]
  },
  {
   "cell_type": "markdown",
   "id": "b2782b0f-e00b-43d9-9cb9-2c3b69ff5021",
   "metadata": {},
   "source": [
    "Scrape by keywords"
   ]
  },
  {
   "cell_type": "code",
   "execution_count": 13,
   "id": "55f2d4c4-cd29-457f-9e14-d07f8f45a82e",
   "metadata": {
    "tags": []
   },
   "outputs": [],
   "source": [
    "df_labeled_kwrds = pd.read_csv(\"../../dataset/labeled_keywords.csv\")"
   ]
  },
  {
   "cell_type": "code",
   "execution_count": 14,
   "id": "f41b3000-614a-4f3c-bc28-811ad52091b2",
   "metadata": {
    "tags": []
   },
   "outputs": [],
   "source": [
    "df_labeled_kwrds.rename(columns={'Labelling \\n(Legal/Ilegal/Non Pangan/Pangan segar/Pangan siap saji)': 'label'}, inplace=True)"
   ]
  },
  {
   "cell_type": "code",
   "execution_count": 15,
   "id": "780a44bc-4c8b-46b8-b628-1cfec6b782e3",
   "metadata": {
    "tags": []
   },
   "outputs": [
    {
     "data": {
      "text/html": [
       "<div>\n",
       "<style scoped>\n",
       "    .dataframe tbody tr th:only-of-type {\n",
       "        vertical-align: middle;\n",
       "    }\n",
       "\n",
       "    .dataframe tbody tr th {\n",
       "        vertical-align: top;\n",
       "    }\n",
       "\n",
       "    .dataframe thead th {\n",
       "        text-align: right;\n",
       "    }\n",
       "</style>\n",
       "<table border=\"1\" class=\"dataframe\">\n",
       "  <thead>\n",
       "    <tr style=\"text-align: right;\">\n",
       "      <th></th>\n",
       "      <th>title</th>\n",
       "      <th>label</th>\n",
       "      <th>Keterangan</th>\n",
       "      <th>price</th>\n",
       "      <th>sold</th>\n",
       "      <th>location</th>\n",
       "      <th>link</th>\n",
       "    </tr>\n",
       "  </thead>\n",
       "  <tbody>\n",
       "    <tr>\n",
       "      <th>0</th>\n",
       "      <td>️ LACTOGEN PREMATUR BBLR 400 GRAM</td>\n",
       "      <td>Legal</td>\n",
       "      <td>NaN</td>\n",
       "      <td>140,000</td>\n",
       "      <td>10 Terjual</td>\n",
       "      <td>KOTA BANDUNG</td>\n",
       "      <td>https://shopee.co.id/️-LACTOGEN-PREMATUR-BBLR-...</td>\n",
       "    </tr>\n",
       "    <tr>\n",
       "      <th>1</th>\n",
       "      <td>‼️CUCI GUDANG‼️ BATITA 1+ 900GRAM | TANPA DUS ...</td>\n",
       "      <td>Legal</td>\n",
       "      <td>NaN</td>\n",
       "      <td>34,999</td>\n",
       "      <td>1,4RB Terjual</td>\n",
       "      <td>KOTA TANGERANG SELATAN</td>\n",
       "      <td>https://shopee.co.id/‼️CUCI-GUDANG‼️-BATITA-1-...</td>\n",
       "    </tr>\n",
       "    <tr>\n",
       "      <th>2</th>\n",
       "      <td>‼️CUCI GUDANG‼️ BATITA 1+ 900GRAM | VANILA | 1...</td>\n",
       "      <td>Legal</td>\n",
       "      <td>NaN</td>\n",
       "      <td>52,999</td>\n",
       "      <td>331 Terjual</td>\n",
       "      <td>KOTA TANGERANG SELATAN</td>\n",
       "      <td>https://shopee.co.id/‼️CUCI-GUDANG‼️-BATITA-1-...</td>\n",
       "    </tr>\n",
       "    <tr>\n",
       "      <th>3</th>\n",
       "      <td>‼️CUCI GUDANG‼️ DATITA 3+ 900GRAM | TANPA DUS ...</td>\n",
       "      <td>Legal</td>\n",
       "      <td>NaN</td>\n",
       "      <td>24,999</td>\n",
       "      <td>856 Terjual</td>\n",
       "      <td>KOTA TANGERANG SELATAN</td>\n",
       "      <td>https://shopee.co.id/‼️CUCI-GUDANG‼️-DATITA-3-...</td>\n",
       "    </tr>\n",
       "    <tr>\n",
       "      <th>4</th>\n",
       "      <td>‼️CUCI GUDANG‼️ DATITA 3+ 900GRAM | VANILA | 3...</td>\n",
       "      <td>Legal</td>\n",
       "      <td>NaN</td>\n",
       "      <td>24,999</td>\n",
       "      <td>146 Terjual</td>\n",
       "      <td>KOTA TANGERANG SELATAN</td>\n",
       "      <td>https://shopee.co.id/‼️CUCI-GUDANG‼️-DATITA-3-...</td>\n",
       "    </tr>\n",
       "    <tr>\n",
       "      <th>...</th>\n",
       "      <td>...</td>\n",
       "      <td>...</td>\n",
       "      <td>...</td>\n",
       "      <td>...</td>\n",
       "      <td>...</td>\n",
       "      <td>...</td>\n",
       "      <td>...</td>\n",
       "    </tr>\n",
       "    <tr>\n",
       "      <th>3420</th>\n",
       "      <td>ZUDAIFU ORIGINAL SALEP OBAT UNTUK ALERGI GATAL...</td>\n",
       "      <td>Non Pangan</td>\n",
       "      <td>NaN</td>\n",
       "      <td>8,800</td>\n",
       "      <td>10RB+ Terjual</td>\n",
       "      <td>KOTA BEKASI</td>\n",
       "      <td>https://shopee.co.id/ZUDAIFU-ORIGINAL-SALEP-OB...</td>\n",
       "    </tr>\n",
       "    <tr>\n",
       "      <th>3421</th>\n",
       "      <td>𝐍𝐮𝐭𝐫𝐢𝐟𝐥𝐚𝐤𝐞𝐬 Umbi Garut Asam Lambung Gerd Maag ...</td>\n",
       "      <td>Legal</td>\n",
       "      <td>NaN</td>\n",
       "      <td>95,000</td>\n",
       "      <td>410 Terjual</td>\n",
       "      <td>KOTA MEDAN</td>\n",
       "      <td>https://shopee.co.id/𝐍𝐮𝐭𝐫𝐢𝐟𝐥𝐚𝐤𝐞𝐬-Umbi-Garut-As...</td>\n",
       "    </tr>\n",
       "    <tr>\n",
       "      <th>3422</th>\n",
       "      <td>𝐍𝐮𝐭𝐫𝐢𝐟𝐥𝐚𝐤𝐞𝐬 𝐎𝐑𝐈𝐆𝐈𝐍𝐀𝐋 - Minuman Umbi Garut &amp; Ek...</td>\n",
       "      <td>Legal</td>\n",
       "      <td>NaN</td>\n",
       "      <td>95,000</td>\n",
       "      <td>3,4RB Terjual</td>\n",
       "      <td>KOTA BANDUNG</td>\n",
       "      <td>https://shopee.co.id/𝐍𝐮𝐭𝐫𝐢𝐟𝐥𝐚𝐤𝐞𝐬-𝐎𝐑𝐈𝐆𝐈𝐍𝐀𝐋-Minu...</td>\n",
       "    </tr>\n",
       "    <tr>\n",
       "      <th>3423</th>\n",
       "      <td>𝐒𝐆𝐌 𝐁𝐁𝐋𝐑 𝟐𝟎𝟎𝐆𝐑 Susu Bayi Prematur - Berat Bada...</td>\n",
       "      <td>Legal</td>\n",
       "      <td>NaN</td>\n",
       "      <td>48,000</td>\n",
       "      <td>129 Terjual</td>\n",
       "      <td>KOTA PONTIANAK</td>\n",
       "      <td>https://shopee.co.id/𝐒𝐆𝐌-𝐁𝐁𝐋𝐑-𝟐𝟎𝟎𝐆𝐑-Susu-Bayi-...</td>\n",
       "    </tr>\n",
       "    <tr>\n",
       "      <th>3424</th>\n",
       "      <td>𝐒𝐆𝐌 𝐁𝐁𝐋𝐑 𝟒𝟎𝟎𝐆𝐑 - Susu Bayi Prematur/Berat Bada...</td>\n",
       "      <td>Legal</td>\n",
       "      <td>NaN</td>\n",
       "      <td>97,000</td>\n",
       "      <td>NaN</td>\n",
       "      <td>KOTA PONTIANAK</td>\n",
       "      <td>https://shopee.co.id/𝐒𝐆𝐌-𝐁𝐁𝐋𝐑-𝟒𝟎𝟎𝐆𝐑-Susu-Bayi-...</td>\n",
       "    </tr>\n",
       "  </tbody>\n",
       "</table>\n",
       "<p>3425 rows × 7 columns</p>\n",
       "</div>"
      ],
      "text/plain": [
       "                                                  title       label  \\\n",
       "0                     ️ LACTOGEN PREMATUR BBLR 400 GRAM       Legal   \n",
       "1     ‼️CUCI GUDANG‼️ BATITA 1+ 900GRAM | TANPA DUS ...       Legal   \n",
       "2     ‼️CUCI GUDANG‼️ BATITA 1+ 900GRAM | VANILA | 1...       Legal   \n",
       "3     ‼️CUCI GUDANG‼️ DATITA 3+ 900GRAM | TANPA DUS ...       Legal   \n",
       "4     ‼️CUCI GUDANG‼️ DATITA 3+ 900GRAM | VANILA | 3...       Legal   \n",
       "...                                                 ...         ...   \n",
       "3420  ZUDAIFU ORIGINAL SALEP OBAT UNTUK ALERGI GATAL...  Non Pangan   \n",
       "3421  𝐍𝐮𝐭𝐫𝐢𝐟𝐥𝐚𝐤𝐞𝐬 Umbi Garut Asam Lambung Gerd Maag ...       Legal   \n",
       "3422  𝐍𝐮𝐭𝐫𝐢𝐟𝐥𝐚𝐤𝐞𝐬 𝐎𝐑𝐈𝐆𝐈𝐍𝐀𝐋 - Minuman Umbi Garut & Ek...       Legal   \n",
       "3423  𝐒𝐆𝐌 𝐁𝐁𝐋𝐑 𝟐𝟎𝟎𝐆𝐑 Susu Bayi Prematur - Berat Bada...       Legal   \n",
       "3424  𝐒𝐆𝐌 𝐁𝐁𝐋𝐑 𝟒𝟎𝟎𝐆𝐑 - Susu Bayi Prematur/Berat Bada...       Legal   \n",
       "\n",
       "     Keterangan    price           sold                location  \\\n",
       "0           NaN  140,000     10 Terjual            KOTA BANDUNG   \n",
       "1           NaN   34,999  1,4RB Terjual  KOTA TANGERANG SELATAN   \n",
       "2           NaN   52,999    331 Terjual  KOTA TANGERANG SELATAN   \n",
       "3           NaN   24,999    856 Terjual  KOTA TANGERANG SELATAN   \n",
       "4           NaN   24,999    146 Terjual  KOTA TANGERANG SELATAN   \n",
       "...         ...      ...            ...                     ...   \n",
       "3420        NaN    8,800  10RB+ Terjual             KOTA BEKASI   \n",
       "3421        NaN   95,000    410 Terjual              KOTA MEDAN   \n",
       "3422        NaN   95,000  3,4RB Terjual            KOTA BANDUNG   \n",
       "3423        NaN   48,000    129 Terjual          KOTA PONTIANAK   \n",
       "3424        NaN   97,000            NaN          KOTA PONTIANAK   \n",
       "\n",
       "                                                   link  \n",
       "0     https://shopee.co.id/️-LACTOGEN-PREMATUR-BBLR-...  \n",
       "1     https://shopee.co.id/‼️CUCI-GUDANG‼️-BATITA-1-...  \n",
       "2     https://shopee.co.id/‼️CUCI-GUDANG‼️-BATITA-1-...  \n",
       "3     https://shopee.co.id/‼️CUCI-GUDANG‼️-DATITA-3-...  \n",
       "4     https://shopee.co.id/‼️CUCI-GUDANG‼️-DATITA-3-...  \n",
       "...                                                 ...  \n",
       "3420  https://shopee.co.id/ZUDAIFU-ORIGINAL-SALEP-OB...  \n",
       "3421  https://shopee.co.id/𝐍𝐮𝐭𝐫𝐢𝐟𝐥𝐚𝐤𝐞𝐬-Umbi-Garut-As...  \n",
       "3422  https://shopee.co.id/𝐍𝐮𝐭𝐫𝐢𝐟𝐥𝐚𝐤𝐞𝐬-𝐎𝐑𝐈𝐆𝐈𝐍𝐀𝐋-Minu...  \n",
       "3423  https://shopee.co.id/𝐒𝐆𝐌-𝐁𝐁𝐋𝐑-𝟐𝟎𝟎𝐆𝐑-Susu-Bayi-...  \n",
       "3424  https://shopee.co.id/𝐒𝐆𝐌-𝐁𝐁𝐋𝐑-𝟒𝟎𝟎𝐆𝐑-Susu-Bayi-...  \n",
       "\n",
       "[3425 rows x 7 columns]"
      ]
     },
     "execution_count": 15,
     "metadata": {},
     "output_type": "execute_result"
    }
   ],
   "source": [
    "df_labeled_kwrds"
   ]
  },
  {
   "cell_type": "code",
   "execution_count": 33,
   "id": "66271248-a01c-4efa-a17e-ce4d5ebb25df",
   "metadata": {
    "tags": []
   },
   "outputs": [],
   "source": [
    "df_labeled_kwrds['price'] = df_labeled_kwrds['price'].str.replace(',', '').astype(int)"
   ]
  },
  {
   "cell_type": "code",
   "execution_count": 34,
   "id": "2ec3edcb-0314-4d87-ad06-af31798d5dc5",
   "metadata": {
    "tags": []
   },
   "outputs": [
    {
     "data": {
      "text/plain": [
       "0       140000\n",
       "1        34999\n",
       "2        52999\n",
       "3        24999\n",
       "4        24999\n",
       "         ...  \n",
       "3420      8800\n",
       "3421     95000\n",
       "3422     95000\n",
       "3423     48000\n",
       "3424     97000\n",
       "Name: price, Length: 3425, dtype: int64"
      ]
     },
     "execution_count": 34,
     "metadata": {},
     "output_type": "execute_result"
    }
   ],
   "source": [
    "df_labeled_kwrds['price']"
   ]
  },
  {
   "cell_type": "code",
   "execution_count": 19,
   "id": "1bcf3078-b6e7-4e35-afa5-8be4e0fba008",
   "metadata": {
    "tags": []
   },
   "outputs": [
    {
     "data": {
      "text/plain": [
       "label\n",
       "Ilegal              1378\n",
       "Legal               1132\n",
       "Non Pangan           899\n",
       "Pangan Siap Saji       7\n",
       "Pangan segar           4\n",
       "Pangan siap saji       2\n",
       "ilegal                 1\n",
       "Name: count, dtype: int64"
      ]
     },
     "execution_count": 19,
     "metadata": {},
     "output_type": "execute_result"
    }
   ],
   "source": [
    "df_labeled_kwrds['label'].value_counts()"
   ]
  },
  {
   "cell_type": "code",
   "execution_count": 35,
   "id": "d927d302-bae2-4f4a-bb36-470b02f39075",
   "metadata": {
    "tags": []
   },
   "outputs": [
    {
     "data": {
      "text/plain": [
       "98954.64804063861"
      ]
     },
     "execution_count": 35,
     "metadata": {},
     "output_type": "execute_result"
    }
   ],
   "source": [
    "df_labeled_kwrds[df_labeled_kwrds['label'] == 'Ilegal']['price'].mean()"
   ]
  },
  {
   "cell_type": "markdown",
   "id": "c56a946f-4520-4445-bda5-1a99bbd7489b",
   "metadata": {},
   "source": [
    "Sampled, Scrape by Categories"
   ]
  },
  {
   "cell_type": "code",
   "execution_count": 16,
   "id": "a23020a2-dfce-4cd2-806d-087b15686960",
   "metadata": {},
   "outputs": [],
   "source": [
    "df_labeled_cat = pd.read_csv(\"../../dataset/labeled_categories.csv\")"
   ]
  },
  {
   "cell_type": "code",
   "execution_count": 17,
   "id": "315758ca-4f91-437f-be3f-8518d5afb418",
   "metadata": {
    "tags": []
   },
   "outputs": [],
   "source": [
    "df_labeled_cat.rename(columns={'Labelling \\n(Legal/Ilegal/Non Pangan/Pangan segar/Pangan siap saji)': 'label'}, inplace=True)"
   ]
  },
  {
   "cell_type": "code",
   "execution_count": 18,
   "id": "1e821f2d-67e0-444d-b7ba-1e0717fef834",
   "metadata": {
    "tags": []
   },
   "outputs": [
    {
     "data": {
      "text/html": [
       "<div>\n",
       "<style scoped>\n",
       "    .dataframe tbody tr th:only-of-type {\n",
       "        vertical-align: middle;\n",
       "    }\n",
       "\n",
       "    .dataframe tbody tr th {\n",
       "        vertical-align: top;\n",
       "    }\n",
       "\n",
       "    .dataframe thead th {\n",
       "        text-align: right;\n",
       "    }\n",
       "</style>\n",
       "<table border=\"1\" class=\"dataframe\">\n",
       "  <thead>\n",
       "    <tr style=\"text-align: right;\">\n",
       "      <th></th>\n",
       "      <th>title</th>\n",
       "      <th>label</th>\n",
       "      <th>price</th>\n",
       "      <th>sold</th>\n",
       "      <th>location</th>\n",
       "      <th>link</th>\n",
       "      <th>category_link</th>\n",
       "    </tr>\n",
       "  </thead>\n",
       "  <tbody>\n",
       "    <tr>\n",
       "      <th>0</th>\n",
       "      <td>( 1kg )CABE/CENGEK KERING  TEJA KUALITAS SUPER...</td>\n",
       "      <td>Pangan Segar</td>\n",
       "      <td>76,900</td>\n",
       "      <td>4,6RB Terjual</td>\n",
       "      <td>KAB. CIAMIS</td>\n",
       "      <td>https://shopee.co.id/(-1kg-)CABE-CENGEK-KERING...</td>\n",
       "      <td>https://shopee.co.id/Makanan-Segar-Beku-cat.11...</td>\n",
       "    </tr>\n",
       "    <tr>\n",
       "      <th>1</th>\n",
       "      <td>( BERKAH ) SUSU REAL GOOD BANTAL UHT 50 ML REA...</td>\n",
       "      <td>Legal</td>\n",
       "      <td>999</td>\n",
       "      <td>10RB+ Terjual</td>\n",
       "      <td>KOTA JAKARTA PUSAT</td>\n",
       "      <td>https://shopee.co.id/(-BERKAH-)-SUSU-REAL-GOOD...</td>\n",
       "      <td>https://shopee.co.id/Susu-Olahan-cat.11043451....</td>\n",
       "    </tr>\n",
       "    <tr>\n",
       "      <th>2</th>\n",
       "      <td>( GROSIRAN ) KURMA SUKARI AL QASSIM 1kg KURMA ...</td>\n",
       "      <td>Pangan segar</td>\n",
       "      <td>14,940</td>\n",
       "      <td>10RB+ Terjual</td>\n",
       "      <td>KAB. PROBOLINGGO</td>\n",
       "      <td>https://shopee.co.id/(-GROSIRAN-)-KURMA-SUKARI...</td>\n",
       "      <td>https://shopee.co.id/Makanan-Minuman-cat.11043451</td>\n",
       "    </tr>\n",
       "    <tr>\n",
       "      <th>3</th>\n",
       "      <td>( JSO ) Susu Real Good Susu Bantal UHT 50ml Re...</td>\n",
       "      <td>Ilegal</td>\n",
       "      <td>999</td>\n",
       "      <td>10RB+ Terjual</td>\n",
       "      <td>KOTA JAKARTA PUSAT</td>\n",
       "      <td>https://shopee.co.id/(-JSO-)-Susu-Real-Good-Su...</td>\n",
       "      <td>https://shopee.co.id/Susu-Olahan-cat.11043451....</td>\n",
       "    </tr>\n",
       "    <tr>\n",
       "      <th>4</th>\n",
       "      <td>(4 Box) Susu Gamamilk Ekstrak Gamat dan Daun K...</td>\n",
       "      <td>Legal</td>\n",
       "      <td>288,000</td>\n",
       "      <td>3,1RB Terjual</td>\n",
       "      <td>KOTA JAKARTA TIMUR</td>\n",
       "      <td>https://shopee.co.id/(4-Box)-Susu-Gamamilk-Eks...</td>\n",
       "      <td>https://shopee.co.id/Susu-Olahan-cat.11043451....</td>\n",
       "    </tr>\n",
       "    <tr>\n",
       "      <th>...</th>\n",
       "      <td>...</td>\n",
       "      <td>...</td>\n",
       "      <td>...</td>\n",
       "      <td>...</td>\n",
       "      <td>...</td>\n",
       "      <td>...</td>\n",
       "      <td>...</td>\n",
       "    </tr>\n",
       "    <tr>\n",
       "      <th>295</th>\n",
       "      <td>Totole kaldu jamur 200 gram</td>\n",
       "      <td>Legal</td>\n",
       "      <td>23,000</td>\n",
       "      <td>2,5RB Terjual</td>\n",
       "      <td>KOTA JAKARTA BARAT</td>\n",
       "      <td>https://shopee.co.id/Totole-kaldu-jamur-200-gr...</td>\n",
       "      <td>https://shopee.co.id/Makanan-Instan-cat.110434...</td>\n",
       "    </tr>\n",
       "    <tr>\n",
       "      <th>296</th>\n",
       "      <td>Trieste Italian Syrup 650mL - Coffee Syrup : C...</td>\n",
       "      <td>Ilegal</td>\n",
       "      <td>70,000</td>\n",
       "      <td>10RB+ Terjual</td>\n",
       "      <td>KOTA SURABAYA</td>\n",
       "      <td>https://shopee.co.id/Trieste-Italian-Syrup-650...</td>\n",
       "      <td>https://shopee.co.id/Minuman-cat.11043451.1104...</td>\n",
       "    </tr>\n",
       "    <tr>\n",
       "      <th>297</th>\n",
       "      <td>Wedang Uwuh \"ꦮꦺꦢꦁꦲꦸꦮꦸꦃ\" I Komplit Gula Batu 1 ...</td>\n",
       "      <td>Pangan siap saji</td>\n",
       "      <td>20,800</td>\n",
       "      <td>10RB+ Terjual</td>\n",
       "      <td>KOTA BOGOR</td>\n",
       "      <td>https://shopee.co.id/Wedang-Uwuh-ꦮꦺꦢꦁꦲꦸꦮꦸꦃ-I-K...</td>\n",
       "      <td>https://shopee.co.id/Minuman-cat.11043451.1104...</td>\n",
       "    </tr>\n",
       "    <tr>\n",
       "      <th>298</th>\n",
       "      <td>Wilmond Mandarin Orange in Syrup 312gr - Buah ...</td>\n",
       "      <td>Legal</td>\n",
       "      <td>16,800</td>\n",
       "      <td>633 Terjual</td>\n",
       "      <td>KOTA MALANG</td>\n",
       "      <td>https://shopee.co.id/Wilmond-Mandarin-Orange-i...</td>\n",
       "      <td>https://shopee.co.id/Makanan-Kaleng-cat.110434...</td>\n",
       "    </tr>\n",
       "    <tr>\n",
       "      <th>299</th>\n",
       "      <td>Yomas kornet ayam 1 kg isi 40</td>\n",
       "      <td>Legal</td>\n",
       "      <td>25,300</td>\n",
       "      <td>1,1RB Terjual</td>\n",
       "      <td>KOTA JAKARTA BARAT</td>\n",
       "      <td>https://shopee.co.id/Yomas-kornet-ayam-1-kg-is...</td>\n",
       "      <td>https://shopee.co.id/Makanan-Kaleng-cat.110434...</td>\n",
       "    </tr>\n",
       "  </tbody>\n",
       "</table>\n",
       "<p>300 rows × 7 columns</p>\n",
       "</div>"
      ],
      "text/plain": [
       "                                                 title             label  \\\n",
       "0    ( 1kg )CABE/CENGEK KERING  TEJA KUALITAS SUPER...      Pangan Segar   \n",
       "1    ( BERKAH ) SUSU REAL GOOD BANTAL UHT 50 ML REA...             Legal   \n",
       "2    ( GROSIRAN ) KURMA SUKARI AL QASSIM 1kg KURMA ...      Pangan segar   \n",
       "3    ( JSO ) Susu Real Good Susu Bantal UHT 50ml Re...            Ilegal   \n",
       "4    (4 Box) Susu Gamamilk Ekstrak Gamat dan Daun K...             Legal   \n",
       "..                                                 ...               ...   \n",
       "295                        Totole kaldu jamur 200 gram             Legal   \n",
       "296  Trieste Italian Syrup 650mL - Coffee Syrup : C...            Ilegal   \n",
       "297  Wedang Uwuh \"ꦮꦺꦢꦁꦲꦸꦮꦸꦃ\" I Komplit Gula Batu 1 ...  Pangan siap saji   \n",
       "298  Wilmond Mandarin Orange in Syrup 312gr - Buah ...             Legal   \n",
       "299                      Yomas kornet ayam 1 kg isi 40             Legal   \n",
       "\n",
       "       price           sold            location  \\\n",
       "0     76,900  4,6RB Terjual         KAB. CIAMIS   \n",
       "1        999  10RB+ Terjual  KOTA JAKARTA PUSAT   \n",
       "2     14,940  10RB+ Terjual    KAB. PROBOLINGGO   \n",
       "3        999  10RB+ Terjual  KOTA JAKARTA PUSAT   \n",
       "4    288,000  3,1RB Terjual  KOTA JAKARTA TIMUR   \n",
       "..       ...            ...                 ...   \n",
       "295   23,000  2,5RB Terjual  KOTA JAKARTA BARAT   \n",
       "296   70,000  10RB+ Terjual       KOTA SURABAYA   \n",
       "297   20,800  10RB+ Terjual          KOTA BOGOR   \n",
       "298   16,800    633 Terjual         KOTA MALANG   \n",
       "299   25,300  1,1RB Terjual  KOTA JAKARTA BARAT   \n",
       "\n",
       "                                                  link  \\\n",
       "0    https://shopee.co.id/(-1kg-)CABE-CENGEK-KERING...   \n",
       "1    https://shopee.co.id/(-BERKAH-)-SUSU-REAL-GOOD...   \n",
       "2    https://shopee.co.id/(-GROSIRAN-)-KURMA-SUKARI...   \n",
       "3    https://shopee.co.id/(-JSO-)-Susu-Real-Good-Su...   \n",
       "4    https://shopee.co.id/(4-Box)-Susu-Gamamilk-Eks...   \n",
       "..                                                 ...   \n",
       "295  https://shopee.co.id/Totole-kaldu-jamur-200-gr...   \n",
       "296  https://shopee.co.id/Trieste-Italian-Syrup-650...   \n",
       "297  https://shopee.co.id/Wedang-Uwuh-ꦮꦺꦢꦁꦲꦸꦮꦸꦃ-I-K...   \n",
       "298  https://shopee.co.id/Wilmond-Mandarin-Orange-i...   \n",
       "299  https://shopee.co.id/Yomas-kornet-ayam-1-kg-is...   \n",
       "\n",
       "                                         category_link  \n",
       "0    https://shopee.co.id/Makanan-Segar-Beku-cat.11...  \n",
       "1    https://shopee.co.id/Susu-Olahan-cat.11043451....  \n",
       "2    https://shopee.co.id/Makanan-Minuman-cat.11043451  \n",
       "3    https://shopee.co.id/Susu-Olahan-cat.11043451....  \n",
       "4    https://shopee.co.id/Susu-Olahan-cat.11043451....  \n",
       "..                                                 ...  \n",
       "295  https://shopee.co.id/Makanan-Instan-cat.110434...  \n",
       "296  https://shopee.co.id/Minuman-cat.11043451.1104...  \n",
       "297  https://shopee.co.id/Minuman-cat.11043451.1104...  \n",
       "298  https://shopee.co.id/Makanan-Kaleng-cat.110434...  \n",
       "299  https://shopee.co.id/Makanan-Kaleng-cat.110434...  \n",
       "\n",
       "[300 rows x 7 columns]"
      ]
     },
     "execution_count": 18,
     "metadata": {},
     "output_type": "execute_result"
    }
   ],
   "source": [
    "df_labeled_cat"
   ]
  },
  {
   "cell_type": "code",
   "execution_count": 39,
   "id": "c1b8e939-8dc0-4d9a-94f7-ac92af58aa91",
   "metadata": {
    "tags": []
   },
   "outputs": [
    {
     "data": {
      "text/plain": [
       "label\n",
       "Legal               175\n",
       "Ilegal               74\n",
       "Pangan Segar         16\n",
       "Non Pangan           11\n",
       "Pangan Siap Saji      8\n",
       "Pangan siap saji      8\n",
       "Pangan segar          7\n",
       "Name: count, dtype: int64"
      ]
     },
     "execution_count": 39,
     "metadata": {},
     "output_type": "execute_result"
    }
   ],
   "source": [
    "df_labeled_cat['label'].value_counts()"
   ]
  },
  {
   "cell_type": "markdown",
   "id": "a0810118-d14b-407d-9d29-a860ba76dc47",
   "metadata": {},
   "source": [
    "Concat data"
   ]
  },
  {
   "cell_type": "code",
   "execution_count": 54,
   "id": "ff025e69-7386-40aa-9fa6-8c0eda128e10",
   "metadata": {
    "tags": []
   },
   "outputs": [],
   "source": [
    "df_labeled_cat['price'] = df_labeled_cat['price'].str.replace(',', '').astype(int)"
   ]
  },
  {
   "cell_type": "code",
   "execution_count": 19,
   "id": "5b114356-6c46-4b48-8b72-c1c370e193c6",
   "metadata": {
    "tags": []
   },
   "outputs": [],
   "source": [
    "df = pd.concat([df_labeled_kwrds, df_labeled_cat])"
   ]
  },
  {
   "cell_type": "code",
   "execution_count": 20,
   "id": "f17bec95-0e8b-4e6b-b554-6160296a495d",
   "metadata": {
    "tags": []
   },
   "outputs": [
    {
     "data": {
      "text/plain": [
       "label\n",
       "Ilegal              1452\n",
       "Legal               1307\n",
       "Non Pangan           910\n",
       "Pangan Segar          16\n",
       "Pangan Siap Saji      15\n",
       "Pangan segar          11\n",
       "Pangan siap saji      10\n",
       "ilegal                 1\n",
       "Name: count, dtype: int64"
      ]
     },
     "execution_count": 20,
     "metadata": {},
     "output_type": "execute_result"
    }
   ],
   "source": [
    "df['label'].value_counts()"
   ]
  },
  {
   "cell_type": "code",
   "execution_count": 24,
   "id": "b59f106a-d2ec-4ff3-a731-9b4adebd5eef",
   "metadata": {
    "tags": []
   },
   "outputs": [
    {
     "data": {
      "image/png": "[encoded data removed]",
      "text/plain": [
       "<Figure size 800x600 with 1 Axes>"
      ]
     },
     "metadata": {},
     "output_type": "display_data"
    }
   ],
   "source": [
    "import matplotlib.pyplot as plt\n",
    "\n",
    "# Get the value counts of the 'label' column\n",
    "label_counts = df['label'].value_counts()\n",
    "\n",
    "# Plotting the value counts\n",
    "plt.figure(figsize=(8, 6))\n",
    "label_counts.plot(kind='bar', color='skyblue')\n",
    "\n",
    "# Adding labels and title\n",
    "plt.xlabel('Labels')\n",
    "plt.ylabel('Count')\n",
    "plt.title('Distribution of Labels')\n",
    "\n",
    "# Displaying the plot\n",
    "plt.xticks(rotation=45)\n",
    "plt.tight_layout()\n",
    "plt.show()\n"
   ]
  },
  {
   "cell_type": "code",
   "execution_count": 56,
   "id": "e31562b2-24aa-4bb5-bc64-78f769fa141b",
   "metadata": {
    "tags": []
   },
   "outputs": [
    {
     "data": {
      "text/plain": [
       "(3725, 8)"
      ]
     },
     "execution_count": 56,
     "metadata": {},
     "output_type": "execute_result"
    }
   ],
   "source": [
    "df.shape"
   ]
  },
  {
   "cell_type": "code",
   "execution_count": 57,
   "id": "aba902d4-c738-42b6-bcc6-e0fd4184e6a8",
   "metadata": {
    "tags": []
   },
   "outputs": [
    {
     "data": {
      "text/html": [
       "<div>\n",
       "<style scoped>\n",
       "    .dataframe tbody tr th:only-of-type {\n",
       "        vertical-align: middle;\n",
       "    }\n",
       "\n",
       "    .dataframe tbody tr th {\n",
       "        vertical-align: top;\n",
       "    }\n",
       "\n",
       "    .dataframe thead th {\n",
       "        text-align: right;\n",
       "    }\n",
       "</style>\n",
       "<table border=\"1\" class=\"dataframe\">\n",
       "  <thead>\n",
       "    <tr style=\"text-align: right;\">\n",
       "      <th></th>\n",
       "      <th>title</th>\n",
       "      <th>label</th>\n",
       "      <th>Keterangan</th>\n",
       "      <th>price</th>\n",
       "      <th>sold</th>\n",
       "      <th>location</th>\n",
       "      <th>link</th>\n",
       "      <th>category_link</th>\n",
       "    </tr>\n",
       "  </thead>\n",
       "  <tbody>\n",
       "    <tr>\n",
       "      <th>0</th>\n",
       "      <td>️ LACTOGEN PREMATUR BBLR 400 GRAM</td>\n",
       "      <td>Legal</td>\n",
       "      <td>NaN</td>\n",
       "      <td>140000</td>\n",
       "      <td>10 Terjual</td>\n",
       "      <td>KOTA BANDUNG</td>\n",
       "      <td>https://shopee.co.id/️-LACTOGEN-PREMATUR-BBLR-...</td>\n",
       "      <td>NaN</td>\n",
       "    </tr>\n",
       "    <tr>\n",
       "      <th>1</th>\n",
       "      <td>‼️CUCI GUDANG‼️ BATITA 1+ 900GRAM | TANPA DUS ...</td>\n",
       "      <td>Legal</td>\n",
       "      <td>NaN</td>\n",
       "      <td>34999</td>\n",
       "      <td>1,4RB Terjual</td>\n",
       "      <td>KOTA TANGERANG SELATAN</td>\n",
       "      <td>https://shopee.co.id/‼️CUCI-GUDANG‼️-BATITA-1-...</td>\n",
       "      <td>NaN</td>\n",
       "    </tr>\n",
       "    <tr>\n",
       "      <th>2</th>\n",
       "      <td>‼️CUCI GUDANG‼️ BATITA 1+ 900GRAM | VANILA | 1...</td>\n",
       "      <td>Legal</td>\n",
       "      <td>NaN</td>\n",
       "      <td>52999</td>\n",
       "      <td>331 Terjual</td>\n",
       "      <td>KOTA TANGERANG SELATAN</td>\n",
       "      <td>https://shopee.co.id/‼️CUCI-GUDANG‼️-BATITA-1-...</td>\n",
       "      <td>NaN</td>\n",
       "    </tr>\n",
       "    <tr>\n",
       "      <th>3</th>\n",
       "      <td>‼️CUCI GUDANG‼️ DATITA 3+ 900GRAM | TANPA DUS ...</td>\n",
       "      <td>Legal</td>\n",
       "      <td>NaN</td>\n",
       "      <td>24999</td>\n",
       "      <td>856 Terjual</td>\n",
       "      <td>KOTA TANGERANG SELATAN</td>\n",
       "      <td>https://shopee.co.id/‼️CUCI-GUDANG‼️-DATITA-3-...</td>\n",
       "      <td>NaN</td>\n",
       "    </tr>\n",
       "    <tr>\n",
       "      <th>4</th>\n",
       "      <td>‼️CUCI GUDANG‼️ DATITA 3+ 900GRAM | VANILA | 3...</td>\n",
       "      <td>Legal</td>\n",
       "      <td>NaN</td>\n",
       "      <td>24999</td>\n",
       "      <td>146 Terjual</td>\n",
       "      <td>KOTA TANGERANG SELATAN</td>\n",
       "      <td>https://shopee.co.id/‼️CUCI-GUDANG‼️-DATITA-3-...</td>\n",
       "      <td>NaN</td>\n",
       "    </tr>\n",
       "    <tr>\n",
       "      <th>...</th>\n",
       "      <td>...</td>\n",
       "      <td>...</td>\n",
       "      <td>...</td>\n",
       "      <td>...</td>\n",
       "      <td>...</td>\n",
       "      <td>...</td>\n",
       "      <td>...</td>\n",
       "      <td>...</td>\n",
       "    </tr>\n",
       "    <tr>\n",
       "      <th>295</th>\n",
       "      <td>Totole kaldu jamur 200 gram</td>\n",
       "      <td>Legal</td>\n",
       "      <td>NaN</td>\n",
       "      <td>23000</td>\n",
       "      <td>2,5RB Terjual</td>\n",
       "      <td>KOTA JAKARTA BARAT</td>\n",
       "      <td>https://shopee.co.id/Totole-kaldu-jamur-200-gr...</td>\n",
       "      <td>https://shopee.co.id/Makanan-Instan-cat.110434...</td>\n",
       "    </tr>\n",
       "    <tr>\n",
       "      <th>296</th>\n",
       "      <td>Trieste Italian Syrup 650mL - Coffee Syrup : C...</td>\n",
       "      <td>Ilegal</td>\n",
       "      <td>NaN</td>\n",
       "      <td>70000</td>\n",
       "      <td>10RB+ Terjual</td>\n",
       "      <td>KOTA SURABAYA</td>\n",
       "      <td>https://shopee.co.id/Trieste-Italian-Syrup-650...</td>\n",
       "      <td>https://shopee.co.id/Minuman-cat.11043451.1104...</td>\n",
       "    </tr>\n",
       "    <tr>\n",
       "      <th>297</th>\n",
       "      <td>Wedang Uwuh \"ꦮꦺꦢꦁꦲꦸꦮꦸꦃ\" I Komplit Gula Batu 1 ...</td>\n",
       "      <td>Pangan siap saji</td>\n",
       "      <td>NaN</td>\n",
       "      <td>20800</td>\n",
       "      <td>10RB+ Terjual</td>\n",
       "      <td>KOTA BOGOR</td>\n",
       "      <td>https://shopee.co.id/Wedang-Uwuh-ꦮꦺꦢꦁꦲꦸꦮꦸꦃ-I-K...</td>\n",
       "      <td>https://shopee.co.id/Minuman-cat.11043451.1104...</td>\n",
       "    </tr>\n",
       "    <tr>\n",
       "      <th>298</th>\n",
       "      <td>Wilmond Mandarin Orange in Syrup 312gr - Buah ...</td>\n",
       "      <td>Legal</td>\n",
       "      <td>NaN</td>\n",
       "      <td>16800</td>\n",
       "      <td>633 Terjual</td>\n",
       "      <td>KOTA MALANG</td>\n",
       "      <td>https://shopee.co.id/Wilmond-Mandarin-Orange-i...</td>\n",
       "      <td>https://shopee.co.id/Makanan-Kaleng-cat.110434...</td>\n",
       "    </tr>\n",
       "    <tr>\n",
       "      <th>299</th>\n",
       "      <td>Yomas kornet ayam 1 kg isi 40</td>\n",
       "      <td>Legal</td>\n",
       "      <td>NaN</td>\n",
       "      <td>25300</td>\n",
       "      <td>1,1RB Terjual</td>\n",
       "      <td>KOTA JAKARTA BARAT</td>\n",
       "      <td>https://shopee.co.id/Yomas-kornet-ayam-1-kg-is...</td>\n",
       "      <td>https://shopee.co.id/Makanan-Kaleng-cat.110434...</td>\n",
       "    </tr>\n",
       "  </tbody>\n",
       "</table>\n",
       "<p>3725 rows × 8 columns</p>\n",
       "</div>"
      ],
      "text/plain": [
       "                                                 title             label  \\\n",
       "0                    ️ LACTOGEN PREMATUR BBLR 400 GRAM             Legal   \n",
       "1    ‼️CUCI GUDANG‼️ BATITA 1+ 900GRAM | TANPA DUS ...             Legal   \n",
       "2    ‼️CUCI GUDANG‼️ BATITA 1+ 900GRAM | VANILA | 1...             Legal   \n",
       "3    ‼️CUCI GUDANG‼️ DATITA 3+ 900GRAM | TANPA DUS ...             Legal   \n",
       "4    ‼️CUCI GUDANG‼️ DATITA 3+ 900GRAM | VANILA | 3...             Legal   \n",
       "..                                                 ...               ...   \n",
       "295                        Totole kaldu jamur 200 gram             Legal   \n",
       "296  Trieste Italian Syrup 650mL - Coffee Syrup : C...            Ilegal   \n",
       "297  Wedang Uwuh \"ꦮꦺꦢꦁꦲꦸꦮꦸꦃ\" I Komplit Gula Batu 1 ...  Pangan siap saji   \n",
       "298  Wilmond Mandarin Orange in Syrup 312gr - Buah ...             Legal   \n",
       "299                      Yomas kornet ayam 1 kg isi 40             Legal   \n",
       "\n",
       "    Keterangan   price           sold                location  \\\n",
       "0          NaN  140000     10 Terjual            KOTA BANDUNG   \n",
       "1          NaN   34999  1,4RB Terjual  KOTA TANGERANG SELATAN   \n",
       "2          NaN   52999    331 Terjual  KOTA TANGERANG SELATAN   \n",
       "3          NaN   24999    856 Terjual  KOTA TANGERANG SELATAN   \n",
       "4          NaN   24999    146 Terjual  KOTA TANGERANG SELATAN   \n",
       "..         ...     ...            ...                     ...   \n",
       "295        NaN   23000  2,5RB Terjual      KOTA JAKARTA BARAT   \n",
       "296        NaN   70000  10RB+ Terjual           KOTA SURABAYA   \n",
       "297        NaN   20800  10RB+ Terjual              KOTA BOGOR   \n",
       "298        NaN   16800    633 Terjual             KOTA MALANG   \n",
       "299        NaN   25300  1,1RB Terjual      KOTA JAKARTA BARAT   \n",
       "\n",
       "                                                  link  \\\n",
       "0    https://shopee.co.id/️-LACTOGEN-PREMATUR-BBLR-...   \n",
       "1    https://shopee.co.id/‼️CUCI-GUDANG‼️-BATITA-1-...   \n",
       "2    https://shopee.co.id/‼️CUCI-GUDANG‼️-BATITA-1-...   \n",
       "3    https://shopee.co.id/‼️CUCI-GUDANG‼️-DATITA-3-...   \n",
       "4    https://shopee.co.id/‼️CUCI-GUDANG‼️-DATITA-3-...   \n",
       "..                                                 ...   \n",
       "295  https://shopee.co.id/Totole-kaldu-jamur-200-gr...   \n",
       "296  https://shopee.co.id/Trieste-Italian-Syrup-650...   \n",
       "297  https://shopee.co.id/Wedang-Uwuh-ꦮꦺꦢꦁꦲꦸꦮꦸꦃ-I-K...   \n",
       "298  https://shopee.co.id/Wilmond-Mandarin-Orange-i...   \n",
       "299  https://shopee.co.id/Yomas-kornet-ayam-1-kg-is...   \n",
       "\n",
       "                                         category_link  \n",
       "0                                                  NaN  \n",
       "1                                                  NaN  \n",
       "2                                                  NaN  \n",
       "3                                                  NaN  \n",
       "4                                                  NaN  \n",
       "..                                                 ...  \n",
       "295  https://shopee.co.id/Makanan-Instan-cat.110434...  \n",
       "296  https://shopee.co.id/Minuman-cat.11043451.1104...  \n",
       "297  https://shopee.co.id/Minuman-cat.11043451.1104...  \n",
       "298  https://shopee.co.id/Makanan-Kaleng-cat.110434...  \n",
       "299  https://shopee.co.id/Makanan-Kaleng-cat.110434...  \n",
       "\n",
       "[3725 rows x 8 columns]"
      ]
     },
     "execution_count": 57,
     "metadata": {},
     "output_type": "execute_result"
    }
   ],
   "source": [
    "df"
   ]
  },
  {
   "cell_type": "code",
   "execution_count": 25,
   "id": "c2aec6f7-94ce-444f-8520-c92799e3094a",
   "metadata": {
    "tags": []
   },
   "outputs": [],
   "source": [
    "df = df[df['label'].isin(['Ilegal', 'Legal'])]"
   ]
  },
  {
   "cell_type": "code",
   "execution_count": 11,
   "id": "1fabb93a-c79e-4246-8f4a-ef66830a17ac",
   "metadata": {
    "tags": []
   },
   "outputs": [
    {
     "data": {
      "text/plain": [
       "label\n",
       "Ilegal    1452\n",
       "Legal     1307\n",
       "Name: count, dtype: int64"
      ]
     },
     "execution_count": 11,
     "metadata": {},
     "output_type": "execute_result"
    }
   ],
   "source": [
    "df['label'].value_counts()"
   ]
  },
  {
   "cell_type": "code",
   "execution_count": 42,
   "id": "0565d834-656d-47a6-bd80-1e110a47e194",
   "metadata": {
    "tags": []
   },
   "outputs": [
    {
     "data": {
      "image/png": "[encoded data removed]",
      "text/plain": [
       "<Figure size 800x600 with 1 Axes>"
      ]
     },
     "metadata": {},
     "output_type": "display_data"
    }
   ],
   "source": [
    "import matplotlib.pyplot as plt\n",
    "\n",
    "# Get the value counts of the 'label' column\n",
    "label_counts = df['label'].value_counts()\n",
    "\n",
    "# Plotting the value counts\n",
    "plt.figure(figsize=(8, 6))\n",
    "bars = label_counts.plot(kind='bar', color='#4c72b0')\n",
    "\n",
    "# Adding labels and title\n",
    "plt.xlabel('Labels')\n",
    "plt.ylabel('Count')\n",
    "plt.title('Distribution of Labels')\n",
    "\n",
    "# Adding count numbers above each bar\n",
    "for bar, count in zip(bars.patches, label_counts):\n",
    "    plt.text(bar.get_x() + bar.get_width() / 2 - 0.02, \n",
    "             bar.get_height() + 0.5, \n",
    "             f'{count}', \n",
    "             ha='center', \n",
    "             va='bottom',\n",
    "             color='black',\n",
    "            fontsize=15)\n",
    "\n",
    "# Displaying the plot\n",
    "plt.xticks(rotation=0)\n",
    "plt.tight_layout()\n",
    "plt.show()\n"
   ]
  },
  {
   "cell_type": "code",
   "execution_count": 59,
   "id": "be0a125f-a3c5-4a69-ba94-f4450ebcd3d4",
   "metadata": {
    "tags": []
   },
   "outputs": [
    {
     "data": {
      "text/html": [
       "<div>\n",
       "<style scoped>\n",
       "    .dataframe tbody tr th:only-of-type {\n",
       "        vertical-align: middle;\n",
       "    }\n",
       "\n",
       "    .dataframe tbody tr th {\n",
       "        vertical-align: top;\n",
       "    }\n",
       "\n",
       "    .dataframe thead th {\n",
       "        text-align: right;\n",
       "    }\n",
       "</style>\n",
       "<table border=\"1\" class=\"dataframe\">\n",
       "  <thead>\n",
       "    <tr style=\"text-align: right;\">\n",
       "      <th></th>\n",
       "      <th>title</th>\n",
       "      <th>label</th>\n",
       "      <th>Keterangan</th>\n",
       "      <th>price</th>\n",
       "      <th>sold</th>\n",
       "      <th>location</th>\n",
       "      <th>link</th>\n",
       "      <th>category_link</th>\n",
       "    </tr>\n",
       "  </thead>\n",
       "  <tbody>\n",
       "    <tr>\n",
       "      <th>0</th>\n",
       "      <td>️ LACTOGEN PREMATUR BBLR 400 GRAM</td>\n",
       "      <td>Legal</td>\n",
       "      <td>NaN</td>\n",
       "      <td>140000</td>\n",
       "      <td>10 Terjual</td>\n",
       "      <td>KOTA BANDUNG</td>\n",
       "      <td>https://shopee.co.id/️-LACTOGEN-PREMATUR-BBLR-...</td>\n",
       "      <td>NaN</td>\n",
       "    </tr>\n",
       "    <tr>\n",
       "      <th>1</th>\n",
       "      <td>‼️CUCI GUDANG‼️ BATITA 1+ 900GRAM | TANPA DUS ...</td>\n",
       "      <td>Legal</td>\n",
       "      <td>NaN</td>\n",
       "      <td>34999</td>\n",
       "      <td>1,4RB Terjual</td>\n",
       "      <td>KOTA TANGERANG SELATAN</td>\n",
       "      <td>https://shopee.co.id/‼️CUCI-GUDANG‼️-BATITA-1-...</td>\n",
       "      <td>NaN</td>\n",
       "    </tr>\n",
       "    <tr>\n",
       "      <th>2</th>\n",
       "      <td>‼️CUCI GUDANG‼️ BATITA 1+ 900GRAM | VANILA | 1...</td>\n",
       "      <td>Legal</td>\n",
       "      <td>NaN</td>\n",
       "      <td>52999</td>\n",
       "      <td>331 Terjual</td>\n",
       "      <td>KOTA TANGERANG SELATAN</td>\n",
       "      <td>https://shopee.co.id/‼️CUCI-GUDANG‼️-BATITA-1-...</td>\n",
       "      <td>NaN</td>\n",
       "    </tr>\n",
       "    <tr>\n",
       "      <th>3</th>\n",
       "      <td>‼️CUCI GUDANG‼️ DATITA 3+ 900GRAM | TANPA DUS ...</td>\n",
       "      <td>Legal</td>\n",
       "      <td>NaN</td>\n",
       "      <td>24999</td>\n",
       "      <td>856 Terjual</td>\n",
       "      <td>KOTA TANGERANG SELATAN</td>\n",
       "      <td>https://shopee.co.id/‼️CUCI-GUDANG‼️-DATITA-3-...</td>\n",
       "      <td>NaN</td>\n",
       "    </tr>\n",
       "    <tr>\n",
       "      <th>4</th>\n",
       "      <td>‼️CUCI GUDANG‼️ DATITA 3+ 900GRAM | VANILA | 3...</td>\n",
       "      <td>Legal</td>\n",
       "      <td>NaN</td>\n",
       "      <td>24999</td>\n",
       "      <td>146 Terjual</td>\n",
       "      <td>KOTA TANGERANG SELATAN</td>\n",
       "      <td>https://shopee.co.id/‼️CUCI-GUDANG‼️-DATITA-3-...</td>\n",
       "      <td>NaN</td>\n",
       "    </tr>\n",
       "    <tr>\n",
       "      <th>...</th>\n",
       "      <td>...</td>\n",
       "      <td>...</td>\n",
       "      <td>...</td>\n",
       "      <td>...</td>\n",
       "      <td>...</td>\n",
       "      <td>...</td>\n",
       "      <td>...</td>\n",
       "      <td>...</td>\n",
       "    </tr>\n",
       "    <tr>\n",
       "      <th>293</th>\n",
       "      <td>Ternak Syams - Premium Susu Kambing Etawa Kolo...</td>\n",
       "      <td>Ilegal</td>\n",
       "      <td>NaN</td>\n",
       "      <td>175000</td>\n",
       "      <td>10RB+ Terjual</td>\n",
       "      <td>KOTA DEPOK</td>\n",
       "      <td>https://shopee.co.id/Ternak-Syams-Premium-Susu...</td>\n",
       "      <td>https://shopee.co.id/Susu-Olahan-cat.11043451....</td>\n",
       "    </tr>\n",
       "    <tr>\n",
       "      <th>295</th>\n",
       "      <td>Totole kaldu jamur 200 gram</td>\n",
       "      <td>Legal</td>\n",
       "      <td>NaN</td>\n",
       "      <td>23000</td>\n",
       "      <td>2,5RB Terjual</td>\n",
       "      <td>KOTA JAKARTA BARAT</td>\n",
       "      <td>https://shopee.co.id/Totole-kaldu-jamur-200-gr...</td>\n",
       "      <td>https://shopee.co.id/Makanan-Instan-cat.110434...</td>\n",
       "    </tr>\n",
       "    <tr>\n",
       "      <th>296</th>\n",
       "      <td>Trieste Italian Syrup 650mL - Coffee Syrup : C...</td>\n",
       "      <td>Ilegal</td>\n",
       "      <td>NaN</td>\n",
       "      <td>70000</td>\n",
       "      <td>10RB+ Terjual</td>\n",
       "      <td>KOTA SURABAYA</td>\n",
       "      <td>https://shopee.co.id/Trieste-Italian-Syrup-650...</td>\n",
       "      <td>https://shopee.co.id/Minuman-cat.11043451.1104...</td>\n",
       "    </tr>\n",
       "    <tr>\n",
       "      <th>298</th>\n",
       "      <td>Wilmond Mandarin Orange in Syrup 312gr - Buah ...</td>\n",
       "      <td>Legal</td>\n",
       "      <td>NaN</td>\n",
       "      <td>16800</td>\n",
       "      <td>633 Terjual</td>\n",
       "      <td>KOTA MALANG</td>\n",
       "      <td>https://shopee.co.id/Wilmond-Mandarin-Orange-i...</td>\n",
       "      <td>https://shopee.co.id/Makanan-Kaleng-cat.110434...</td>\n",
       "    </tr>\n",
       "    <tr>\n",
       "      <th>299</th>\n",
       "      <td>Yomas kornet ayam 1 kg isi 40</td>\n",
       "      <td>Legal</td>\n",
       "      <td>NaN</td>\n",
       "      <td>25300</td>\n",
       "      <td>1,1RB Terjual</td>\n",
       "      <td>KOTA JAKARTA BARAT</td>\n",
       "      <td>https://shopee.co.id/Yomas-kornet-ayam-1-kg-is...</td>\n",
       "      <td>https://shopee.co.id/Makanan-Kaleng-cat.110434...</td>\n",
       "    </tr>\n",
       "  </tbody>\n",
       "</table>\n",
       "<p>2759 rows × 8 columns</p>\n",
       "</div>"
      ],
      "text/plain": [
       "                                                 title   label Keterangan  \\\n",
       "0                    ️ LACTOGEN PREMATUR BBLR 400 GRAM   Legal        NaN   \n",
       "1    ‼️CUCI GUDANG‼️ BATITA 1+ 900GRAM | TANPA DUS ...   Legal        NaN   \n",
       "2    ‼️CUCI GUDANG‼️ BATITA 1+ 900GRAM | VANILA | 1...   Legal        NaN   \n",
       "3    ‼️CUCI GUDANG‼️ DATITA 3+ 900GRAM | TANPA DUS ...   Legal        NaN   \n",
       "4    ‼️CUCI GUDANG‼️ DATITA 3+ 900GRAM | VANILA | 3...   Legal        NaN   \n",
       "..                                                 ...     ...        ...   \n",
       "293  Ternak Syams - Premium Susu Kambing Etawa Kolo...  Ilegal        NaN   \n",
       "295                        Totole kaldu jamur 200 gram   Legal        NaN   \n",
       "296  Trieste Italian Syrup 650mL - Coffee Syrup : C...  Ilegal        NaN   \n",
       "298  Wilmond Mandarin Orange in Syrup 312gr - Buah ...   Legal        NaN   \n",
       "299                      Yomas kornet ayam 1 kg isi 40   Legal        NaN   \n",
       "\n",
       "      price           sold                location  \\\n",
       "0    140000     10 Terjual            KOTA BANDUNG   \n",
       "1     34999  1,4RB Terjual  KOTA TANGERANG SELATAN   \n",
       "2     52999    331 Terjual  KOTA TANGERANG SELATAN   \n",
       "3     24999    856 Terjual  KOTA TANGERANG SELATAN   \n",
       "4     24999    146 Terjual  KOTA TANGERANG SELATAN   \n",
       "..      ...            ...                     ...   \n",
       "293  175000  10RB+ Terjual              KOTA DEPOK   \n",
       "295   23000  2,5RB Terjual      KOTA JAKARTA BARAT   \n",
       "296   70000  10RB+ Terjual           KOTA SURABAYA   \n",
       "298   16800    633 Terjual             KOTA MALANG   \n",
       "299   25300  1,1RB Terjual      KOTA JAKARTA BARAT   \n",
       "\n",
       "                                                  link  \\\n",
       "0    https://shopee.co.id/️-LACTOGEN-PREMATUR-BBLR-...   \n",
       "1    https://shopee.co.id/‼️CUCI-GUDANG‼️-BATITA-1-...   \n",
       "2    https://shopee.co.id/‼️CUCI-GUDANG‼️-BATITA-1-...   \n",
       "3    https://shopee.co.id/‼️CUCI-GUDANG‼️-DATITA-3-...   \n",
       "4    https://shopee.co.id/‼️CUCI-GUDANG‼️-DATITA-3-...   \n",
       "..                                                 ...   \n",
       "293  https://shopee.co.id/Ternak-Syams-Premium-Susu...   \n",
       "295  https://shopee.co.id/Totole-kaldu-jamur-200-gr...   \n",
       "296  https://shopee.co.id/Trieste-Italian-Syrup-650...   \n",
       "298  https://shopee.co.id/Wilmond-Mandarin-Orange-i...   \n",
       "299  https://shopee.co.id/Yomas-kornet-ayam-1-kg-is...   \n",
       "\n",
       "                                         category_link  \n",
       "0                                                  NaN  \n",
       "1                                                  NaN  \n",
       "2                                                  NaN  \n",
       "3                                                  NaN  \n",
       "4                                                  NaN  \n",
       "..                                                 ...  \n",
       "293  https://shopee.co.id/Susu-Olahan-cat.11043451....  \n",
       "295  https://shopee.co.id/Makanan-Instan-cat.110434...  \n",
       "296  https://shopee.co.id/Minuman-cat.11043451.1104...  \n",
       "298  https://shopee.co.id/Makanan-Kaleng-cat.110434...  \n",
       "299  https://shopee.co.id/Makanan-Kaleng-cat.110434...  \n",
       "\n",
       "[2759 rows x 8 columns]"
      ]
     },
     "execution_count": 59,
     "metadata": {},
     "output_type": "execute_result"
    }
   ],
   "source": [
    "df"
   ]
  },
  {
   "cell_type": "code",
   "execution_count": 70,
   "id": "8634eaa0-a45d-404a-b2c3-3bb088814770",
   "metadata": {
    "tags": []
   },
   "outputs": [],
   "source": [
    "df.to_csv('../../dataset/df_labeled_final.csv', index=False)"
   ]
  },
  {
   "cell_type": "code",
   "execution_count": 61,
   "id": "82e647de-2764-43e8-b92d-46f09337892e",
   "metadata": {
    "tags": []
   },
   "outputs": [
    {
     "data": {
      "text/plain": [
       "label\n",
       "Ilegal    1452\n",
       "Legal     1307\n",
       "Name: count, dtype: int64"
      ]
     },
     "execution_count": 61,
     "metadata": {},
     "output_type": "execute_result"
    }
   ],
   "source": [
    "df['label'].value_counts()"
   ]
  },
  {
   "cell_type": "code",
   "execution_count": 62,
   "id": "1fcc4cc5-7842-431c-aa07-550179e3a579",
   "metadata": {
    "tags": []
   },
   "outputs": [
    {
     "data": {
      "image/png": "[encoded data removed]",
      "text/plain": [
       "<Figure size 640x480 with 1 Axes>"
      ]
     },
     "metadata": {},
     "output_type": "display_data"
    }
   ],
   "source": [
    "import matplotlib.pyplot as plt\n",
    "\n",
    "df['label'].value_counts().plot(kind='bar')\n",
    "plt.show()"
   ]
  },
  {
   "cell_type": "code",
   "execution_count": 63,
   "id": "92b524b6-d3b8-495a-96a4-c2511f37c8ba",
   "metadata": {
    "tags": []
   },
   "outputs": [
    {
     "data": {
      "text/plain": [
       "0      140000\n",
       "1       34999\n",
       "2       52999\n",
       "3       24999\n",
       "4       24999\n",
       "        ...  \n",
       "293    175000\n",
       "295     23000\n",
       "296     70000\n",
       "298     16800\n",
       "299     25300\n",
       "Name: price, Length: 2759, dtype: int64"
      ]
     },
     "execution_count": 63,
     "metadata": {},
     "output_type": "execute_result"
    }
   ],
   "source": [
    "df['price']"
   ]
  },
  {
   "cell_type": "code",
   "execution_count": 66,
   "id": "251968e9-8e1f-431f-9d40-dbbe781f0bc2",
   "metadata": {
    "tags": []
   },
   "outputs": [
    {
     "data": {
      "image/png": "[encoded data removed]",
      "text/plain": [
       "<Figure size 640x480 with 1 Axes>"
      ]
     },
     "metadata": {},
     "output_type": "display_data"
    }
   ],
   "source": [
    "df['price'].plot()\n",
    "plt.show()"
   ]
  },
  {
   "cell_type": "code",
   "execution_count": 68,
   "id": "cbfc3c29-10c3-4f94-906d-da8564683352",
   "metadata": {
    "tags": []
   },
   "outputs": [
    {
     "data": {
      "text/plain": [
       "title               0\n",
       "label               0\n",
       "Keterangan       1390\n",
       "price               0\n",
       "sold              242\n",
       "location            0\n",
       "link                0\n",
       "category_link    1378\n",
       "dtype: int64"
      ]
     },
     "execution_count": 68,
     "metadata": {},
     "output_type": "execute_result"
    }
   ],
   "source": [
    "df[df['label'] == 'Ilegal'].isna().sum()"
   ]
  },
  {
   "cell_type": "code",
   "execution_count": 69,
   "id": "b0ecbb9f-905b-4e47-93ef-53b9f61a52e2",
   "metadata": {
    "tags": []
   },
   "outputs": [
    {
     "data": {
      "text/plain": [
       "title               0\n",
       "label               0\n",
       "Keterangan       1264\n",
       "price               0\n",
       "sold               96\n",
       "location            0\n",
       "link                0\n",
       "category_link    1132\n",
       "dtype: int64"
      ]
     },
     "execution_count": 69,
     "metadata": {},
     "output_type": "execute_result"
    }
   ],
   "source": [
    "df[df['label'] == 'Legal'].isna().sum()"
   ]
  },
  {
   "cell_type": "code",
   "execution_count": null,
   "id": "92a043c6-630c-4631-a5fa-4c036bd352a5",
   "metadata": {},
   "outputs": [],
   "source": []
  }
 ],
 "metadata": {
  "kernelspec": {
   "display_name": "Python 3 (ipykernel)",
   "language": "python",
   "name": "python3"
  },
  "language_info": {
   "codemirror_mode": {
    "name": "ipython",
    "version": 3
   },
   "file_extension": ".py",
   "mimetype": "text/x-python",
   "name": "python",
   "nbconvert_exporter": "python",
   "pygments_lexer": "ipython3",
   "version": "3.11.5"
  }
 },
 "nbformat": 4,
 "nbformat_minor": 5
}
