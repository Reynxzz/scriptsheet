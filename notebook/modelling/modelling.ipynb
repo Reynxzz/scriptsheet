{
 "cells": [
  {
   "cell_type": "code",
   "execution_count": 15,
   "id": "3934e375-96a3-4286-b200-7614faf83420",
   "metadata": {
    "tags": []
   },
   "outputs": [
    {
     "name": "stderr",
     "output_type": "stream",
     "text": [
      "[nltk_data] Downloading package punkt to\n",
      "[nltk_data]     /Users/muhamadluthfireynaldi/nltk_data...\n",
      "[nltk_data]   Package punkt is already up-to-date!\n"
     ]
    }
   ],
   "source": [
    "import pandas as pd\n",
    "from gensim.models import Word2Vec\n",
    "from nltk.tokenize import word_tokenize\n",
    "import nltk\n",
    "nltk.download('punkt')\n",
    "import re\n",
    "import nltk\n",
    "from nltk.corpus import stopwords\n",
    "from nltk.tokenize import word_tokenize\n",
    "from Sastrawi.Stemmer.StemmerFactory import StemmerFactory\n",
    "import numpy as np\n",
    "from tensorflow.keras.models import Sequential\n",
    "from tensorflow.keras.layers import Embedding, LSTM, Dense\n",
    "from sklearn.model_selection import train_test_split"
   ]
  },
  {
   "cell_type": "markdown",
   "id": "f2bbb763-1722-4ee4-a392-473101c2b7af",
   "metadata": {},
   "source": [
    "### Util functions"
   ]
  },
  {
   "cell_type": "code",
   "execution_count": 2,
   "id": "2d952813-4c7c-4f70-9ed8-65c510401ec1",
   "metadata": {
    "tags": []
   },
   "outputs": [],
   "source": [
    "def preprocess_text(text):\n",
    "    # Remove special characters and numbers\n",
    "    text = re.sub(r'[^a-zA-Z\\s]', '', text)\n",
    "    \n",
    "    # Tokenize the text\n",
    "    tokens = word_tokenize(text)\n",
    "    \n",
    "    # Remove stopwords and lowercase the tokens\n",
    "    stop_words = set(stopwords.words('indonesian'))\n",
    "    tokens = [token.lower() for token in tokens if token.lower() not in stop_words]\n",
    "    \n",
    "    # Lemmatize the tokens using Sasstrawi\n",
    "    stemmer = StemmerFactory().create_stemmer()\n",
    "    tokens = [stemmer.stem(token) for token in tokens]\n",
    "    \n",
    "    # Join the tokens back into a single string\n",
    "    preprocessed_text = ' '.join(tokens)\n",
    "    \n",
    "    return preprocessed_text"
   ]
  },
  {
   "cell_type": "code",
   "execution_count": 18,
   "id": "12e836af-532c-4074-8a1f-58d6a3aace93",
   "metadata": {
    "tags": []
   },
   "outputs": [],
   "source": [
    "word2vec_model = Word2Vec.load('word2vec_model_3.model')"
   ]
  },
  {
   "cell_type": "code",
   "execution_count": 19,
   "id": "247f2680-ebfc-46a1-aff3-16dfb7b66741",
   "metadata": {
    "tags": []
   },
   "outputs": [
    {
     "name": "stdout",
     "output_type": "stream",
     "text": [
      "snack: 0.9921791553497314\n",
      "ringan: 0.9846801161766052\n",
      "an: 0.9841180443763733\n",
      "kilo: 0.9760900139808655\n",
      "serba: 0.9758464694023132\n",
      "jajan: 0.9706935882568359\n",
      "latiao: 0.9651387333869934\n",
      "camil: 0.9647635221481323\n",
      "gluten: 0.964328944683075\n",
      "ribu: 0.9573124051094055\n"
     ]
    }
   ],
   "source": [
    "similar_words = word2vec_model.wv.most_similar('cemilan', topn=10)\n",
    "for word, similarity in similar_words:\n",
    "    print(f\"{word}: {similarity}\")"
   ]
  },
  {
   "cell_type": "code",
   "execution_count": 5,
   "id": "69c6f998-1dfd-42e5-9ed4-91d625fdf692",
   "metadata": {
    "tags": []
   },
   "outputs": [],
   "source": [
    "df_labeled = pd.read_csv('../../dataset/df_labeled_final.csv')"
   ]
  },
  {
   "cell_type": "code",
   "execution_count": 6,
   "id": "2bfdb960-bf6a-4599-8bf9-15c3c5f8dcc3",
   "metadata": {
    "tags": []
   },
   "outputs": [
    {
     "data": {
      "text/html": [
       "<div>\n",
       "<style scoped>\n",
       "    .dataframe tbody tr th:only-of-type {\n",
       "        vertical-align: middle;\n",
       "    }\n",
       "\n",
       "    .dataframe tbody tr th {\n",
       "        vertical-align: top;\n",
       "    }\n",
       "\n",
       "    .dataframe thead th {\n",
       "        text-align: right;\n",
       "    }\n",
       "</style>\n",
       "<table border=\"1\" class=\"dataframe\">\n",
       "  <thead>\n",
       "    <tr style=\"text-align: right;\">\n",
       "      <th></th>\n",
       "      <th>title</th>\n",
       "      <th>label</th>\n",
       "      <th>Keterangan</th>\n",
       "      <th>price</th>\n",
       "      <th>sold</th>\n",
       "      <th>location</th>\n",
       "      <th>link</th>\n",
       "      <th>category_link</th>\n",
       "    </tr>\n",
       "  </thead>\n",
       "  <tbody>\n",
       "    <tr>\n",
       "      <th>0</th>\n",
       "      <td>️ LACTOGEN PREMATUR BBLR 400 GRAM</td>\n",
       "      <td>Legal</td>\n",
       "      <td>NaN</td>\n",
       "      <td>140000</td>\n",
       "      <td>10 Terjual</td>\n",
       "      <td>KOTA BANDUNG</td>\n",
       "      <td>https://shopee.co.id/️-LACTOGEN-PREMATUR-BBLR-...</td>\n",
       "      <td>NaN</td>\n",
       "    </tr>\n",
       "    <tr>\n",
       "      <th>1</th>\n",
       "      <td>‼️CUCI GUDANG‼️ BATITA 1+ 900GRAM | TANPA DUS ...</td>\n",
       "      <td>Legal</td>\n",
       "      <td>NaN</td>\n",
       "      <td>34999</td>\n",
       "      <td>1,4RB Terjual</td>\n",
       "      <td>KOTA TANGERANG SELATAN</td>\n",
       "      <td>https://shopee.co.id/‼️CUCI-GUDANG‼️-BATITA-1-...</td>\n",
       "      <td>NaN</td>\n",
       "    </tr>\n",
       "    <tr>\n",
       "      <th>2</th>\n",
       "      <td>‼️CUCI GUDANG‼️ BATITA 1+ 900GRAM | VANILA | 1...</td>\n",
       "      <td>Legal</td>\n",
       "      <td>NaN</td>\n",
       "      <td>52999</td>\n",
       "      <td>331 Terjual</td>\n",
       "      <td>KOTA TANGERANG SELATAN</td>\n",
       "      <td>https://shopee.co.id/‼️CUCI-GUDANG‼️-BATITA-1-...</td>\n",
       "      <td>NaN</td>\n",
       "    </tr>\n",
       "    <tr>\n",
       "      <th>3</th>\n",
       "      <td>‼️CUCI GUDANG‼️ DATITA 3+ 900GRAM | TANPA DUS ...</td>\n",
       "      <td>Legal</td>\n",
       "      <td>NaN</td>\n",
       "      <td>24999</td>\n",
       "      <td>856 Terjual</td>\n",
       "      <td>KOTA TANGERANG SELATAN</td>\n",
       "      <td>https://shopee.co.id/‼️CUCI-GUDANG‼️-DATITA-3-...</td>\n",
       "      <td>NaN</td>\n",
       "    </tr>\n",
       "    <tr>\n",
       "      <th>4</th>\n",
       "      <td>‼️CUCI GUDANG‼️ DATITA 3+ 900GRAM | VANILA | 3...</td>\n",
       "      <td>Legal</td>\n",
       "      <td>NaN</td>\n",
       "      <td>24999</td>\n",
       "      <td>146 Terjual</td>\n",
       "      <td>KOTA TANGERANG SELATAN</td>\n",
       "      <td>https://shopee.co.id/‼️CUCI-GUDANG‼️-DATITA-3-...</td>\n",
       "      <td>NaN</td>\n",
       "    </tr>\n",
       "    <tr>\n",
       "      <th>...</th>\n",
       "      <td>...</td>\n",
       "      <td>...</td>\n",
       "      <td>...</td>\n",
       "      <td>...</td>\n",
       "      <td>...</td>\n",
       "      <td>...</td>\n",
       "      <td>...</td>\n",
       "      <td>...</td>\n",
       "    </tr>\n",
       "    <tr>\n",
       "      <th>2754</th>\n",
       "      <td>Ternak Syams - Premium Susu Kambing Etawa Kolo...</td>\n",
       "      <td>Ilegal</td>\n",
       "      <td>NaN</td>\n",
       "      <td>175000</td>\n",
       "      <td>10RB+ Terjual</td>\n",
       "      <td>KOTA DEPOK</td>\n",
       "      <td>https://shopee.co.id/Ternak-Syams-Premium-Susu...</td>\n",
       "      <td>https://shopee.co.id/Susu-Olahan-cat.11043451....</td>\n",
       "    </tr>\n",
       "    <tr>\n",
       "      <th>2755</th>\n",
       "      <td>Totole kaldu jamur 200 gram</td>\n",
       "      <td>Legal</td>\n",
       "      <td>NaN</td>\n",
       "      <td>23000</td>\n",
       "      <td>2,5RB Terjual</td>\n",
       "      <td>KOTA JAKARTA BARAT</td>\n",
       "      <td>https://shopee.co.id/Totole-kaldu-jamur-200-gr...</td>\n",
       "      <td>https://shopee.co.id/Makanan-Instan-cat.110434...</td>\n",
       "    </tr>\n",
       "    <tr>\n",
       "      <th>2756</th>\n",
       "      <td>Trieste Italian Syrup 650mL - Coffee Syrup : C...</td>\n",
       "      <td>Ilegal</td>\n",
       "      <td>NaN</td>\n",
       "      <td>70000</td>\n",
       "      <td>10RB+ Terjual</td>\n",
       "      <td>KOTA SURABAYA</td>\n",
       "      <td>https://shopee.co.id/Trieste-Italian-Syrup-650...</td>\n",
       "      <td>https://shopee.co.id/Minuman-cat.11043451.1104...</td>\n",
       "    </tr>\n",
       "    <tr>\n",
       "      <th>2757</th>\n",
       "      <td>Wilmond Mandarin Orange in Syrup 312gr - Buah ...</td>\n",
       "      <td>Legal</td>\n",
       "      <td>NaN</td>\n",
       "      <td>16800</td>\n",
       "      <td>633 Terjual</td>\n",
       "      <td>KOTA MALANG</td>\n",
       "      <td>https://shopee.co.id/Wilmond-Mandarin-Orange-i...</td>\n",
       "      <td>https://shopee.co.id/Makanan-Kaleng-cat.110434...</td>\n",
       "    </tr>\n",
       "    <tr>\n",
       "      <th>2758</th>\n",
       "      <td>Yomas kornet ayam 1 kg isi 40</td>\n",
       "      <td>Legal</td>\n",
       "      <td>NaN</td>\n",
       "      <td>25300</td>\n",
       "      <td>1,1RB Terjual</td>\n",
       "      <td>KOTA JAKARTA BARAT</td>\n",
       "      <td>https://shopee.co.id/Yomas-kornet-ayam-1-kg-is...</td>\n",
       "      <td>https://shopee.co.id/Makanan-Kaleng-cat.110434...</td>\n",
       "    </tr>\n",
       "  </tbody>\n",
       "</table>\n",
       "<p>2759 rows × 8 columns</p>\n",
       "</div>"
      ],
      "text/plain": [
       "                                                  title   label Keterangan  \\\n",
       "0                     ️ LACTOGEN PREMATUR BBLR 400 GRAM   Legal        NaN   \n",
       "1     ‼️CUCI GUDANG‼️ BATITA 1+ 900GRAM | TANPA DUS ...   Legal        NaN   \n",
       "2     ‼️CUCI GUDANG‼️ BATITA 1+ 900GRAM | VANILA | 1...   Legal        NaN   \n",
       "3     ‼️CUCI GUDANG‼️ DATITA 3+ 900GRAM | TANPA DUS ...   Legal        NaN   \n",
       "4     ‼️CUCI GUDANG‼️ DATITA 3+ 900GRAM | VANILA | 3...   Legal        NaN   \n",
       "...                                                 ...     ...        ...   \n",
       "2754  Ternak Syams - Premium Susu Kambing Etawa Kolo...  Ilegal        NaN   \n",
       "2755                        Totole kaldu jamur 200 gram   Legal        NaN   \n",
       "2756  Trieste Italian Syrup 650mL - Coffee Syrup : C...  Ilegal        NaN   \n",
       "2757  Wilmond Mandarin Orange in Syrup 312gr - Buah ...   Legal        NaN   \n",
       "2758                      Yomas kornet ayam 1 kg isi 40   Legal        NaN   \n",
       "\n",
       "       price           sold                location  \\\n",
       "0     140000     10 Terjual            KOTA BANDUNG   \n",
       "1      34999  1,4RB Terjual  KOTA TANGERANG SELATAN   \n",
       "2      52999    331 Terjual  KOTA TANGERANG SELATAN   \n",
       "3      24999    856 Terjual  KOTA TANGERANG SELATAN   \n",
       "4      24999    146 Terjual  KOTA TANGERANG SELATAN   \n",
       "...      ...            ...                     ...   \n",
       "2754  175000  10RB+ Terjual              KOTA DEPOK   \n",
       "2755   23000  2,5RB Terjual      KOTA JAKARTA BARAT   \n",
       "2756   70000  10RB+ Terjual           KOTA SURABAYA   \n",
       "2757   16800    633 Terjual             KOTA MALANG   \n",
       "2758   25300  1,1RB Terjual      KOTA JAKARTA BARAT   \n",
       "\n",
       "                                                   link  \\\n",
       "0     https://shopee.co.id/️-LACTOGEN-PREMATUR-BBLR-...   \n",
       "1     https://shopee.co.id/‼️CUCI-GUDANG‼️-BATITA-1-...   \n",
       "2     https://shopee.co.id/‼️CUCI-GUDANG‼️-BATITA-1-...   \n",
       "3     https://shopee.co.id/‼️CUCI-GUDANG‼️-DATITA-3-...   \n",
       "4     https://shopee.co.id/‼️CUCI-GUDANG‼️-DATITA-3-...   \n",
       "...                                                 ...   \n",
       "2754  https://shopee.co.id/Ternak-Syams-Premium-Susu...   \n",
       "2755  https://shopee.co.id/Totole-kaldu-jamur-200-gr...   \n",
       "2756  https://shopee.co.id/Trieste-Italian-Syrup-650...   \n",
       "2757  https://shopee.co.id/Wilmond-Mandarin-Orange-i...   \n",
       "2758  https://shopee.co.id/Yomas-kornet-ayam-1-kg-is...   \n",
       "\n",
       "                                          category_link  \n",
       "0                                                   NaN  \n",
       "1                                                   NaN  \n",
       "2                                                   NaN  \n",
       "3                                                   NaN  \n",
       "4                                                   NaN  \n",
       "...                                                 ...  \n",
       "2754  https://shopee.co.id/Susu-Olahan-cat.11043451....  \n",
       "2755  https://shopee.co.id/Makanan-Instan-cat.110434...  \n",
       "2756  https://shopee.co.id/Minuman-cat.11043451.1104...  \n",
       "2757  https://shopee.co.id/Makanan-Kaleng-cat.110434...  \n",
       "2758  https://shopee.co.id/Makanan-Kaleng-cat.110434...  \n",
       "\n",
       "[2759 rows x 8 columns]"
      ]
     },
     "execution_count": 6,
     "metadata": {},
     "output_type": "execute_result"
    }
   ],
   "source": [
    "df_labeled"
   ]
  },
  {
   "cell_type": "code",
   "execution_count": 8,
   "id": "2018a045-bf6f-4dd0-9bee-eb86fd8c9cfb",
   "metadata": {
    "tags": []
   },
   "outputs": [
    {
     "data": {
      "text/plain": [
       "label\n",
       "Ilegal    1452\n",
       "Legal     1307\n",
       "Name: count, dtype: int64"
      ]
     },
     "execution_count": 8,
     "metadata": {},
     "output_type": "execute_result"
    }
   ],
   "source": [
    "df_labeled['label'].value_counts()"
   ]
  },
  {
   "cell_type": "code",
   "execution_count": 9,
   "id": "b0ba6e82-4662-43e5-92fa-3066a02afd3b",
   "metadata": {
    "tags": []
   },
   "outputs": [],
   "source": [
    "df = df_labeled[['title', 'label', 'link']]"
   ]
  },
  {
   "cell_type": "markdown",
   "id": "7121ac1b-b823-4bbf-a6be-93f971a422ea",
   "metadata": {},
   "source": [
    "### Cleaning"
   ]
  },
  {
   "cell_type": "code",
   "execution_count": 11,
   "id": "c2696a9a-5ed3-44a2-b785-63ea9f37d404",
   "metadata": {
    "tags": []
   },
   "outputs": [
    {
     "name": "stderr",
     "output_type": "stream",
     "text": [
      "/var/folders/1k/rvddzkqj4yn9vwymqmntyzv00000gn/T/ipykernel_22922/2889038992.py:2: SettingWithCopyWarning: \n",
      "A value is trying to be set on a copy of a slice from a DataFrame.\n",
      "Try using .loc[row_indexer,col_indexer] = value instead\n",
      "\n",
      "See the caveats in the documentation: https://pandas.pydata.org/pandas-docs/stable/user_guide/indexing.html#returning-a-view-versus-a-copy\n",
      "  df['preprocessed_text'] = preprocessed_texts\n"
     ]
    }
   ],
   "source": [
    "preprocessed_texts = [preprocess_text(title) for title in df['title']]\n",
    "df['preprocessed_text'] = preprocessed_texts"
   ]
  },
  {
   "cell_type": "code",
   "execution_count": 12,
   "id": "413c57da-29f6-426a-9946-1d49119c30d1",
   "metadata": {
    "tags": []
   },
   "outputs": [],
   "source": [
    "df.to_csv('../../dataset/df_labeled_cleaned_final.csv', index=False)"
   ]
  },
  {
   "cell_type": "code",
   "execution_count": 48,
   "id": "da66a51d-e0ff-49d7-be42-49e24b3c9fdf",
   "metadata": {
    "tags": []
   },
   "outputs": [],
   "source": [
    "df = pd.read_csv('../../dataset/df_labeled_cleaned_final.csv')"
   ]
  },
  {
   "cell_type": "code",
   "execution_count": 40,
   "id": "ccf8f673-af4a-4002-b2ae-093dc00702d6",
   "metadata": {
    "tags": []
   },
   "outputs": [
    {
     "data": {
      "text/html": [
       "<div>\n",
       "<style scoped>\n",
       "    .dataframe tbody tr th:only-of-type {\n",
       "        vertical-align: middle;\n",
       "    }\n",
       "\n",
       "    .dataframe tbody tr th {\n",
       "        vertical-align: top;\n",
       "    }\n",
       "\n",
       "    .dataframe thead th {\n",
       "        text-align: right;\n",
       "    }\n",
       "</style>\n",
       "<table border=\"1\" class=\"dataframe\">\n",
       "  <thead>\n",
       "    <tr style=\"text-align: right;\">\n",
       "      <th></th>\n",
       "      <th>title</th>\n",
       "      <th>label</th>\n",
       "      <th>link</th>\n",
       "      <th>preprocessed_text</th>\n",
       "    </tr>\n",
       "  </thead>\n",
       "  <tbody>\n",
       "    <tr>\n",
       "      <th>0</th>\n",
       "      <td>️ LACTOGEN PREMATUR BBLR 400 GRAM</td>\n",
       "      <td>Legal</td>\n",
       "      <td>https://shopee.co.id/️-LACTOGEN-PREMATUR-BBLR-...</td>\n",
       "      <td>lactogen prematur bblr gram</td>\n",
       "    </tr>\n",
       "    <tr>\n",
       "      <th>1</th>\n",
       "      <td>‼️CUCI GUDANG‼️ BATITA 1+ 900GRAM | TANPA DUS ...</td>\n",
       "      <td>Legal</td>\n",
       "      <td>https://shopee.co.id/‼️CUCI-GUDANG‼️-BATITA-1-...</td>\n",
       "      <td>cuci gudang batita gram dus madu susu formula ...</td>\n",
       "    </tr>\n",
       "    <tr>\n",
       "      <th>2</th>\n",
       "      <td>‼️CUCI GUDANG‼️ BATITA 1+ 900GRAM | VANILA | 1...</td>\n",
       "      <td>Legal</td>\n",
       "      <td>https://shopee.co.id/‼️CUCI-GUDANG‼️-BATITA-1-...</td>\n",
       "      <td>cuci gudang batita gram vanila susu formula tu...</td>\n",
       "    </tr>\n",
       "    <tr>\n",
       "      <th>3</th>\n",
       "      <td>‼️CUCI GUDANG‼️ DATITA 3+ 900GRAM | TANPA DUS ...</td>\n",
       "      <td>Legal</td>\n",
       "      <td>https://shopee.co.id/‼️CUCI-GUDANG‼️-DATITA-3-...</td>\n",
       "      <td>cuci gudang datita gram dus madu susu formula ...</td>\n",
       "    </tr>\n",
       "    <tr>\n",
       "      <th>4</th>\n",
       "      <td>‼️CUCI GUDANG‼️ DATITA 3+ 900GRAM | VANILA | 3...</td>\n",
       "      <td>Legal</td>\n",
       "      <td>https://shopee.co.id/‼️CUCI-GUDANG‼️-DATITA-3-...</td>\n",
       "      <td>cuci gudang datita gram vanila susu formula tu...</td>\n",
       "    </tr>\n",
       "    <tr>\n",
       "      <th>...</th>\n",
       "      <td>...</td>\n",
       "      <td>...</td>\n",
       "      <td>...</td>\n",
       "      <td>...</td>\n",
       "    </tr>\n",
       "    <tr>\n",
       "      <th>2754</th>\n",
       "      <td>Ternak Syams - Premium Susu Kambing Etawa Kolo...</td>\n",
       "      <td>Ilegal</td>\n",
       "      <td>https://shopee.co.id/Ternak-Syams-Premium-Susu...</td>\n",
       "      <td>ternak syams premium susu kambing etawa kolost...</td>\n",
       "    </tr>\n",
       "    <tr>\n",
       "      <th>2755</th>\n",
       "      <td>Totole kaldu jamur 200 gram</td>\n",
       "      <td>Legal</td>\n",
       "      <td>https://shopee.co.id/Totole-kaldu-jamur-200-gr...</td>\n",
       "      <td>totole kaldu jamur gram</td>\n",
       "    </tr>\n",
       "    <tr>\n",
       "      <th>2756</th>\n",
       "      <td>Trieste Italian Syrup 650mL - Coffee Syrup : C...</td>\n",
       "      <td>Ilegal</td>\n",
       "      <td>https://shopee.co.id/Trieste-Italian-Syrup-650...</td>\n",
       "      <td>trieste italian syrup ml coffee syrup caramel ...</td>\n",
       "    </tr>\n",
       "    <tr>\n",
       "      <th>2757</th>\n",
       "      <td>Wilmond Mandarin Orange in Syrup 312gr - Buah ...</td>\n",
       "      <td>Legal</td>\n",
       "      <td>https://shopee.co.id/Wilmond-Mandarin-Orange-i...</td>\n",
       "      <td>wilmond mandarin orange in syrup gr buah jeruk...</td>\n",
       "    </tr>\n",
       "    <tr>\n",
       "      <th>2758</th>\n",
       "      <td>Yomas kornet ayam 1 kg isi 40</td>\n",
       "      <td>Legal</td>\n",
       "      <td>https://shopee.co.id/Yomas-kornet-ayam-1-kg-is...</td>\n",
       "      <td>yomas kornet ayam kg isi</td>\n",
       "    </tr>\n",
       "  </tbody>\n",
       "</table>\n",
       "<p>2759 rows × 4 columns</p>\n",
       "</div>"
      ],
      "text/plain": [
       "                                                  title   label  \\\n",
       "0                     ️ LACTOGEN PREMATUR BBLR 400 GRAM   Legal   \n",
       "1     ‼️CUCI GUDANG‼️ BATITA 1+ 900GRAM | TANPA DUS ...   Legal   \n",
       "2     ‼️CUCI GUDANG‼️ BATITA 1+ 900GRAM | VANILA | 1...   Legal   \n",
       "3     ‼️CUCI GUDANG‼️ DATITA 3+ 900GRAM | TANPA DUS ...   Legal   \n",
       "4     ‼️CUCI GUDANG‼️ DATITA 3+ 900GRAM | VANILA | 3...   Legal   \n",
       "...                                                 ...     ...   \n",
       "2754  Ternak Syams - Premium Susu Kambing Etawa Kolo...  Ilegal   \n",
       "2755                        Totole kaldu jamur 200 gram   Legal   \n",
       "2756  Trieste Italian Syrup 650mL - Coffee Syrup : C...  Ilegal   \n",
       "2757  Wilmond Mandarin Orange in Syrup 312gr - Buah ...   Legal   \n",
       "2758                      Yomas kornet ayam 1 kg isi 40   Legal   \n",
       "\n",
       "                                                   link  \\\n",
       "0     https://shopee.co.id/️-LACTOGEN-PREMATUR-BBLR-...   \n",
       "1     https://shopee.co.id/‼️CUCI-GUDANG‼️-BATITA-1-...   \n",
       "2     https://shopee.co.id/‼️CUCI-GUDANG‼️-BATITA-1-...   \n",
       "3     https://shopee.co.id/‼️CUCI-GUDANG‼️-DATITA-3-...   \n",
       "4     https://shopee.co.id/‼️CUCI-GUDANG‼️-DATITA-3-...   \n",
       "...                                                 ...   \n",
       "2754  https://shopee.co.id/Ternak-Syams-Premium-Susu...   \n",
       "2755  https://shopee.co.id/Totole-kaldu-jamur-200-gr...   \n",
       "2756  https://shopee.co.id/Trieste-Italian-Syrup-650...   \n",
       "2757  https://shopee.co.id/Wilmond-Mandarin-Orange-i...   \n",
       "2758  https://shopee.co.id/Yomas-kornet-ayam-1-kg-is...   \n",
       "\n",
       "                                      preprocessed_text  \n",
       "0                           lactogen prematur bblr gram  \n",
       "1     cuci gudang batita gram dus madu susu formula ...  \n",
       "2     cuci gudang batita gram vanila susu formula tu...  \n",
       "3     cuci gudang datita gram dus madu susu formula ...  \n",
       "4     cuci gudang datita gram vanila susu formula tu...  \n",
       "...                                                 ...  \n",
       "2754  ternak syams premium susu kambing etawa kolost...  \n",
       "2755                            totole kaldu jamur gram  \n",
       "2756  trieste italian syrup ml coffee syrup caramel ...  \n",
       "2757  wilmond mandarin orange in syrup gr buah jeruk...  \n",
       "2758                           yomas kornet ayam kg isi  \n",
       "\n",
       "[2759 rows x 4 columns]"
      ]
     },
     "execution_count": 40,
     "metadata": {},
     "output_type": "execute_result"
    }
   ],
   "source": [
    "df"
   ]
  },
  {
   "cell_type": "markdown",
   "id": "5f1c1801-ae32-4ffa-8de7-b034c4110c52",
   "metadata": {
    "tags": []
   },
   "source": [
    "### Tokenize & Pad Sequence"
   ]
  },
  {
   "cell_type": "code",
   "execution_count": 16,
   "id": "bcce49e2-4a36-4be8-9c73-d4e55b2f9789",
   "metadata": {
    "tags": []
   },
   "outputs": [],
   "source": [
    "# Tokenize and Pad Sequences\n",
    "from tensorflow.keras.preprocessing.text import Tokenizer\n",
    "from tensorflow.keras.preprocessing.sequence import pad_sequences"
   ]
  },
  {
   "cell_type": "code",
   "execution_count": 17,
   "id": "841454b4-14c3-47b8-94cb-8f2741554eff",
   "metadata": {
    "tags": []
   },
   "outputs": [],
   "source": [
    "tokenizer = Tokenizer()\n",
    "tokenizer.fit_on_texts(df['preprocessed_text'])\n",
    "\n",
    "sequences = tokenizer.texts_to_sequences(df['preprocessed_text'])\n",
    "max_sequence_length = max(len(seq) for seq in sequences)\n",
    "padded_sequences = pad_sequences(sequences, maxlen=max_sequence_length)"
   ]
  },
  {
   "cell_type": "markdown",
   "id": "04f0e4ae-95f3-4489-9639-68e9db38e622",
   "metadata": {
    "tags": []
   },
   "source": [
    "### Generate word embeddings"
   ]
  },
  {
   "cell_type": "code",
   "execution_count": 30,
   "id": "cfc9a123-202f-486a-86a3-1deb61258848",
   "metadata": {
    "tags": []
   },
   "outputs": [],
   "source": [
    "# Generate Word Embeddings\n",
    "embedding_matrix = np.zeros((len(tokenizer.word_index) + 1, word2vec_model.vector_size))\n",
    "\n",
    "for word, i in tokenizer.word_index.items():\n",
    "    if word in word2vec_model.wv:\n",
    "        # If the word is present in the Word2Vec model's vocabulary,\n",
    "        # assign its corresponding word vector to the embedding matrix\n",
    "        embedding_matrix[i] = word2vec_model.wv[word]\n",
    "    else:\n",
    "        # Handle out-of-vocabulary words\n",
    "        # For example, you can initialize their embeddings randomly or with zeros\n",
    "        # Option 1: Random Initialization\n",
    "        embedding_matrix[i] = np.random.randn(word2vec_model.vector_size)\n",
    "\n",
    "        # Option 2: Zero Initialization\n",
    "        # embedding_matrix[i] = np.zeros(word2vec_model.vector_size)\n",
    "\n",
    "        # Option 3: Fallback to Average/Zero Vector\n",
    "        # embedding_matrix[i] = word2vec_model.wv.vectors.mean(axis=0)  # Assuming word2vec_model.wv.vectors is a numpy array containing all word vectors\n",
    "        # Or\n",
    "        # embedding_matrix[i] = np.zeros(word2vec_model.vector_size)\n",
    "        pass"
   ]
  },
  {
   "cell_type": "code",
   "execution_count": 31,
   "id": "a2a5286e-3c1a-4a73-9a8b-4db84b84684f",
   "metadata": {
    "tags": []
   },
   "outputs": [
    {
     "data": {
      "text/plain": [
       "3201"
      ]
     },
     "execution_count": 31,
     "metadata": {},
     "output_type": "execute_result"
    }
   ],
   "source": [
    "len(embedding_matrix)"
   ]
  },
  {
   "cell_type": "code",
   "execution_count": 41,
   "id": "8dd70467-5476-4b45-a399-8078b27ae8d3",
   "metadata": {
    "tags": []
   },
   "outputs": [],
   "source": [
    "# df.loc[:, 'label'] = df['label'].replace({'Legal': 0, 'Ilegal': 1})"
   ]
  },
  {
   "cell_type": "code",
   "execution_count": 49,
   "id": "b87ea2e0-601e-4e2c-bad4-9afda97fb9ed",
   "metadata": {
    "tags": []
   },
   "outputs": [
    {
     "data": {
      "text/plain": [
       "label\n",
       "Ilegal    1452\n",
       "Legal     1307\n",
       "Name: count, dtype: int64"
      ]
     },
     "execution_count": 49,
     "metadata": {},
     "output_type": "execute_result"
    }
   ],
   "source": [
    "df['label'].value_counts()"
   ]
  },
  {
   "cell_type": "code",
   "execution_count": 50,
   "id": "feed5975-2011-47f3-912f-52a0dfe1a979",
   "metadata": {
    "tags": []
   },
   "outputs": [],
   "source": [
    "label_mapping = {'Legal': 0, 'Ilegal': 1}\n",
    "df['label'] = df['label'].map(label_mapping)"
   ]
  },
  {
   "cell_type": "code",
   "execution_count": 52,
   "id": "4be22052-66bc-47f7-acaf-4550e8089332",
   "metadata": {
    "tags": []
   },
   "outputs": [],
   "source": [
    "# Split the data into training and testing sets\n",
    "X_train, X_test, y_train, y_test = train_test_split(padded_sequences, df['label'], test_size=0.2, random_state=42)\n"
   ]
  },
  {
   "cell_type": "code",
   "execution_count": 53,
   "id": "2c4d6d5f-a679-4c4f-8078-df43dabd6393",
   "metadata": {
    "tags": []
   },
   "outputs": [
    {
     "name": "stdout",
     "output_type": "stream",
     "text": [
      "Epoch 1/10\n",
      "56/56 [==============================] - 2s 22ms/step - loss: 0.5751 - accuracy: 0.7184 - val_loss: 0.5438 - val_accuracy: 0.7195\n",
      "Epoch 2/10\n",
      "56/56 [==============================] - 1s 20ms/step - loss: 0.5409 - accuracy: 0.7473 - val_loss: 0.5775 - val_accuracy: 0.6968\n",
      "Epoch 3/10\n",
      "56/56 [==============================] - 1s 20ms/step - loss: 0.5374 - accuracy: 0.7360 - val_loss: 0.5803 - val_accuracy: 0.7104\n",
      "Epoch 4/10\n",
      "56/56 [==============================] - 1s 20ms/step - loss: 0.5159 - accuracy: 0.7501 - val_loss: 0.5409 - val_accuracy: 0.7398\n",
      "Epoch 5/10\n",
      "56/56 [==============================] - 1s 21ms/step - loss: 0.5108 - accuracy: 0.7518 - val_loss: 0.5641 - val_accuracy: 0.7104\n",
      "Epoch 6/10\n",
      "56/56 [==============================] - 1s 20ms/step - loss: 0.4984 - accuracy: 0.7558 - val_loss: 0.5344 - val_accuracy: 0.7240\n",
      "Epoch 7/10\n",
      "56/56 [==============================] - 1s 20ms/step - loss: 0.4915 - accuracy: 0.7660 - val_loss: 0.5253 - val_accuracy: 0.7195\n",
      "Epoch 8/10\n",
      "56/56 [==============================] - 1s 21ms/step - loss: 0.4945 - accuracy: 0.7547 - val_loss: 0.5401 - val_accuracy: 0.7217\n",
      "Epoch 9/10\n",
      "56/56 [==============================] - 1s 20ms/step - loss: 0.4883 - accuracy: 0.7683 - val_loss: 0.5216 - val_accuracy: 0.7262\n",
      "Epoch 10/10\n",
      "56/56 [==============================] - 1s 20ms/step - loss: 0.4755 - accuracy: 0.7671 - val_loss: 0.5248 - val_accuracy: 0.7308\n",
      "18/18 [==============================] - 0s 7ms/step - loss: 0.5277 - accuracy: 0.7264\n",
      "Test Accuracy: 0.7264492511749268\n"
     ]
    }
   ],
   "source": [
    "# Define and compile your model\n",
    "model = Sequential()\n",
    "model.add(Embedding(len(tokenizer.word_index) + 1, word2vec_model.vector_size, weights=[embedding_matrix], input_length=max_sequence_length, trainable=False))\n",
    "model.add(LSTM(128))\n",
    "model.add(Dense(1, activation='sigmoid'))\n",
    "model.compile(optimizer='adam', loss='binary_crossentropy', metrics=['accuracy'])\n",
    "\n",
    "# Train the model\n",
    "model.fit(X_train, y_train, epochs=10, batch_size=32, validation_split=0.2)\n",
    "\n",
    "# Evaluate the model on the test set\n",
    "loss, accuracy = model.evaluate(X_test, y_test)\n",
    "print(\"Test Accuracy:\", accuracy)"
   ]
  },
  {
   "cell_type": "code",
   "execution_count": 58,
   "id": "9d0a83b0-9811-4d82-8b0d-204cce524f43",
   "metadata": {
    "tags": []
   },
   "outputs": [
    {
     "name": "stdout",
     "output_type": "stream",
     "text": [
      "18/18 [==============================] - 0s 6ms/step\n"
     ]
    }
   ],
   "source": [
    "# Generate predictions\n",
    "y_pred = model.predict(X_test)\n",
    "# y_pred = (y_pred_prob > 0.5).astype(int)"
   ]
  },
  {
   "cell_type": "markdown",
   "id": "013448b1-1d01-4db5-be23-8bfa9f0029f5",
   "metadata": {
    "tags": []
   },
   "source": [
    "## ROC Curves"
   ]
  },
  {
   "cell_type": "code",
   "execution_count": 62,
   "id": "f96248ba-3a19-4bb8-8204-8e845b035841",
   "metadata": {
    "tags": []
   },
   "outputs": [
    {
     "name": "stdout",
     "output_type": "stream",
     "text": [
      "69/69 [==============================] - 0s 7ms/step\n"
     ]
    },
    {
     "data": {
      "image/png": "[encoded data removed]",
      "text/plain": [
       "<Figure size 640x480 with 1 Axes>"
      ]
     },
     "metadata": {},
     "output_type": "display_data"
    }
   ],
   "source": [
    "from sklearn.metrics import roc_curve, auc\n",
    "import matplotlib.pyplot as plt\n",
    "\n",
    "# Generate predictions for training data\n",
    "y_train_pred = model.predict(X_train)\n",
    "# y_train_pred = (y_train_pred_prob > 0.5).astype(int)  # Thresholding at 0.5 to get binary predictions\n",
    "\n",
    "# Compute ROC curve and AUC for training predictions\n",
    "fpr_train, tpr_train, thresholds_train = roc_curve(y_train, y_train_pred)\n",
    "roc_auc_train = auc(fpr_train, tpr_train)\n",
    "\n",
    "# Compute ROC curve and AUC for test predictions\n",
    "fpr_test, tpr_test, thresholds_test = roc_curve(y_test, y_pred)\n",
    "roc_auc_test = auc(fpr_test, tpr_test)\n",
    "\n",
    "# Plot ROC curves for both training and test predictions\n",
    "plt.figure()\n",
    "plt.plot(fpr_train, tpr_train, color='green', lw=2, label='Train ROC curve (area = %0.2f)' % roc_auc_train)\n",
    "plt.plot(fpr_test, tpr_test, color='darkorange', lw=2, label='Test ROC curve (area = %0.2f)' % roc_auc_test)\n",
    "plt.plot([0, 1], [0, 1], color='navy', lw=2, linestyle='--')\n",
    "plt.xlim([0.0, 1.0])\n",
    "plt.ylim([0.0, 1.05])\n",
    "plt.xlabel('False Positive Rate')\n",
    "plt.ylabel('True Positive Rate')\n",
    "plt.title('ROC Curve')\n",
    "plt.legend(loc=\"lower right\")\n",
    "plt.show()"
   ]
  },
  {
   "cell_type": "markdown",
   "id": "15e56516-c2e1-4987-bd1d-179702111ba2",
   "metadata": {},
   "source": [
    "## PRC Curves"
   ]
  },
  {
   "cell_type": "code",
   "execution_count": 64,
   "id": "fbe8275c-360c-4eb8-b328-ca93e9eaeaba",
   "metadata": {
    "tags": []
   },
   "outputs": [
    {
     "data": {
      "image/png": "[encoded data removed]",
      "text/plain": [
       "<Figure size 640x480 with 1 Axes>"
      ]
     },
     "metadata": {},
     "output_type": "display_data"
    }
   ],
   "source": [
    "from sklearn.metrics import precision_recall_curve, auc\n",
    "import matplotlib.pyplot as plt\n",
    "\n",
    "# Generate precision and recall values for training data\n",
    "precision_train, recall_train, thresholds_train = precision_recall_curve(y_train, y_train_pred)\n",
    "auc_train = auc(recall_train, precision_train)\n",
    "\n",
    "# Generate precision and recall values for test data\n",
    "precision_test, recall_test, thresholds_test = precision_recall_curve(y_test, y_pred)\n",
    "auc_test = auc(recall_test, precision_test)\n",
    "\n",
    "# Plot Precision-Recall curves for both training and test data\n",
    "plt.figure()\n",
    "plt.plot(recall_train, precision_train, color='blue', lw=2, label='Train PRC curve (area = %0.2f)' % auc_train)\n",
    "plt.plot(recall_test, precision_test, color='darkorange', lw=2, label='Test PRC curve (area = %0.2f)' % auc_test)\n",
    "plt.xlabel('Recall')\n",
    "plt.ylabel('Precision')\n",
    "plt.title('Precision-Recall Curve')\n",
    "plt.legend(loc=\"lower left\")\n",
    "plt.show()"
   ]
  },
  {
   "cell_type": "code",
   "execution_count": 67,
   "id": "67eda8b2-03a2-4baa-838b-27035e289ca3",
   "metadata": {
    "tags": []
   },
   "outputs": [],
   "source": [
    "# Save the model\n",
    "model.save('rey_model_v1.keras')"
   ]
  },
  {
   "cell_type": "code",
   "execution_count": 71,
   "id": "d96c92b3-8af2-48ea-801b-37efc68fb751",
   "metadata": {
    "tags": []
   },
   "outputs": [],
   "source": [
    "# from sklearn.metrics import classification_report\n",
    "\n",
    "# print(classification_report(y_test, y_pred, target_names=['Legal', 'Ilegal']))"
   ]
  },
  {
   "cell_type": "code",
   "execution_count": null,
   "id": "425dc66f-a3ce-4ea7-a0d2-ca18edc2e0ff",
   "metadata": {},
   "outputs": [],
   "source": []
  }
 ],
 "metadata": {
  "kernelspec": {
   "display_name": "Python 3 (ipykernel)",
   "language": "python",
   "name": "python3"
  },
  "language_info": {
   "codemirror_mode": {
    "name": "ipython",
    "version": 3
   },
   "file_extension": ".py",
   "mimetype": "text/x-python",
   "name": "python",
   "nbconvert_exporter": "python",
   "pygments_lexer": "ipython3",
   "version": "3.11.5"
  }
 },
 "nbformat": 4,
 "nbformat_minor": 5
}
