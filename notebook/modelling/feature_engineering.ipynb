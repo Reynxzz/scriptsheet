{
 "cells": [
  {
   "cell_type": "code",
   "execution_count": 1,
   "id": "f1911feb-8ec9-4384-8b58-fd0450ec908b",
   "metadata": {
    "tags": []
   },
   "outputs": [],
   "source": [
    "import pandas as pd"
   ]
  },
  {
   "cell_type": "code",
   "execution_count": 2,
   "id": "c60d34d6-a082-4501-9d45-5e011f8b0a30",
   "metadata": {
    "tags": []
   },
   "outputs": [],
   "source": [
    "df1 = pd.read_csv('../../dataset/df_all_category_full.csv')\n",
    "df2 = pd.read_csv('../../dataset/df_all_keywords_no_duplicates.csv')"
   ]
  },
  {
   "cell_type": "code",
   "execution_count": 3,
   "id": "058c9ead-f517-4a19-8e57-b5451ef176d6",
   "metadata": {
    "tags": []
   },
   "outputs": [
    {
     "data": {
      "text/plain": [
       "((5437, 6), (3425, 5))"
      ]
     },
     "execution_count": 3,
     "metadata": {},
     "output_type": "execute_result"
    }
   ],
   "source": [
    "df1.shape, df2.shape"
   ]
  },
  {
   "cell_type": "code",
   "execution_count": 4,
   "id": "41bd14d5-83d7-45fe-a535-c8d4c884963a",
   "metadata": {
    "tags": []
   },
   "outputs": [
    {
     "data": {
      "text/html": [
       "<div>\n",
       "<style scoped>\n",
       "    .dataframe tbody tr th:only-of-type {\n",
       "        vertical-align: middle;\n",
       "    }\n",
       "\n",
       "    .dataframe tbody tr th {\n",
       "        vertical-align: top;\n",
       "    }\n",
       "\n",
       "    .dataframe thead th {\n",
       "        text-align: right;\n",
       "    }\n",
       "</style>\n",
       "<table border=\"1\" class=\"dataframe\">\n",
       "  <thead>\n",
       "    <tr style=\"text-align: right;\">\n",
       "      <th></th>\n",
       "      <th>title</th>\n",
       "      <th>price</th>\n",
       "      <th>sold</th>\n",
       "      <th>location</th>\n",
       "      <th>link</th>\n",
       "    </tr>\n",
       "  </thead>\n",
       "  <tbody>\n",
       "    <tr>\n",
       "      <th>0</th>\n",
       "      <td>HALAL-Netflix (JINGFENG)  LATIAO Tendon Daging...</td>\n",
       "      <td>9.800</td>\n",
       "      <td>71 Terjual</td>\n",
       "      <td>KAB. GRESIK</td>\n",
       "      <td>https://shopee.co.id/HALAL-Netflix-(JINGFENG)-...</td>\n",
       "    </tr>\n",
       "    <tr>\n",
       "      <th>1</th>\n",
       "      <td>YumBites Macaroni Crispy - Makaroni Krispi Cem...</td>\n",
       "      <td>35.000</td>\n",
       "      <td>181 Terjual</td>\n",
       "      <td>KOTA JAKARTA UTARA</td>\n",
       "      <td>https://shopee.co.id/YumBites-Macaroni-Crispy-...</td>\n",
       "    </tr>\n",
       "    <tr>\n",
       "      <th>2</th>\n",
       "      <td>Coklat Chocodot Update Series Penangkal Bucin 50g</td>\n",
       "      <td>9.750</td>\n",
       "      <td>31 Terjual</td>\n",
       "      <td>KAB. GARUT</td>\n",
       "      <td>https://shopee.co.id/Coklat-Chocodot-Update-Se...</td>\n",
       "    </tr>\n",
       "    <tr>\n",
       "      <th>3</th>\n",
       "      <td>TRIPLE Almond Crispy Cheese Greentea PUNPUN</td>\n",
       "      <td>165.000</td>\n",
       "      <td>92 Terjual</td>\n",
       "      <td>KOTA SURABAYA</td>\n",
       "      <td>https://shopee.co.id/TRIPLE-Almond-Crispy-Chee...</td>\n",
       "    </tr>\n",
       "    <tr>\n",
       "      <th>4</th>\n",
       "      <td>Beryls Chocolate Coklat Durian Import Malaysia...</td>\n",
       "      <td>42.299</td>\n",
       "      <td>481 Terjual</td>\n",
       "      <td>KOTA JAKARTA BARAT</td>\n",
       "      <td>https://shopee.co.id/Beryls-Chocolate-Coklat-D...</td>\n",
       "    </tr>\n",
       "    <tr>\n",
       "      <th>...</th>\n",
       "      <td>...</td>\n",
       "      <td>...</td>\n",
       "      <td>...</td>\n",
       "      <td>...</td>\n",
       "      <td>...</td>\n",
       "    </tr>\n",
       "    <tr>\n",
       "      <th>3420</th>\n",
       "      <td>Ginseng ejiao dangshen dihuang,penambah trombo...</td>\n",
       "      <td>216.000</td>\n",
       "      <td>1,1RB Terjual</td>\n",
       "      <td>KOTA SURABAYA</td>\n",
       "      <td>https://shopee.co.id/Ginseng-ejiao-dangshen-di...</td>\n",
       "    </tr>\n",
       "    <tr>\n",
       "      <th>3421</th>\n",
       "      <td>mister golo/golo ginseng/mister golo gingseng ...</td>\n",
       "      <td>59.000</td>\n",
       "      <td>92 Terjual</td>\n",
       "      <td>KOTA JAKARTA TIMUR</td>\n",
       "      <td>https://shopee.co.id/mister-golo-golo-ginseng-...</td>\n",
       "    </tr>\n",
       "    <tr>\n",
       "      <th>3422</th>\n",
       "      <td>Kopi Obat Kuat Pria Tahan Lama BIGMAXX Stamina...</td>\n",
       "      <td>120</td>\n",
       "      <td>NaN</td>\n",
       "      <td>KAB. SUMEDANG</td>\n",
       "      <td>https://shopee.co.id/Kopi-Obat-Kuat-Pria-Tahan...</td>\n",
       "    </tr>\n",
       "    <tr>\n",
       "      <th>3423</th>\n",
       "      <td>Dijamin Paksu nya Greng 4-G Joss Asli Original...</td>\n",
       "      <td>85.000</td>\n",
       "      <td>NaN</td>\n",
       "      <td>KOTA SEMARANG</td>\n",
       "      <td>https://shopee.co.id/Dijamin-Paksu-nya-Greng-4...</td>\n",
       "    </tr>\n",
       "    <tr>\n",
       "      <th>3424</th>\n",
       "      <td>Obat Lemah Syahwat - Obat Ejakulasi Dini - Oba...</td>\n",
       "      <td>60.000</td>\n",
       "      <td>59 Terjual</td>\n",
       "      <td>KOTA JAKARTA TIMUR</td>\n",
       "      <td>https://shopee.co.id/Obat-Lemah-Syahwat-Obat-E...</td>\n",
       "    </tr>\n",
       "  </tbody>\n",
       "</table>\n",
       "<p>3425 rows × 5 columns</p>\n",
       "</div>"
      ],
      "text/plain": [
       "                                                  title    price  \\\n",
       "0     HALAL-Netflix (JINGFENG)  LATIAO Tendon Daging...    9.800   \n",
       "1     YumBites Macaroni Crispy - Makaroni Krispi Cem...   35.000   \n",
       "2     Coklat Chocodot Update Series Penangkal Bucin 50g    9.750   \n",
       "3           TRIPLE Almond Crispy Cheese Greentea PUNPUN  165.000   \n",
       "4     Beryls Chocolate Coklat Durian Import Malaysia...   42.299   \n",
       "...                                                 ...      ...   \n",
       "3420  Ginseng ejiao dangshen dihuang,penambah trombo...  216.000   \n",
       "3421  mister golo/golo ginseng/mister golo gingseng ...   59.000   \n",
       "3422  Kopi Obat Kuat Pria Tahan Lama BIGMAXX Stamina...      120   \n",
       "3423  Dijamin Paksu nya Greng 4-G Joss Asli Original...   85.000   \n",
       "3424  Obat Lemah Syahwat - Obat Ejakulasi Dini - Oba...   60.000   \n",
       "\n",
       "               sold            location  \\\n",
       "0        71 Terjual         KAB. GRESIK   \n",
       "1       181 Terjual  KOTA JAKARTA UTARA   \n",
       "2        31 Terjual          KAB. GARUT   \n",
       "3        92 Terjual       KOTA SURABAYA   \n",
       "4       481 Terjual  KOTA JAKARTA BARAT   \n",
       "...             ...                 ...   \n",
       "3420  1,1RB Terjual       KOTA SURABAYA   \n",
       "3421     92 Terjual  KOTA JAKARTA TIMUR   \n",
       "3422            NaN       KAB. SUMEDANG   \n",
       "3423            NaN       KOTA SEMARANG   \n",
       "3424     59 Terjual  KOTA JAKARTA TIMUR   \n",
       "\n",
       "                                                   link  \n",
       "0     https://shopee.co.id/HALAL-Netflix-(JINGFENG)-...  \n",
       "1     https://shopee.co.id/YumBites-Macaroni-Crispy-...  \n",
       "2     https://shopee.co.id/Coklat-Chocodot-Update-Se...  \n",
       "3     https://shopee.co.id/TRIPLE-Almond-Crispy-Chee...  \n",
       "4     https://shopee.co.id/Beryls-Chocolate-Coklat-D...  \n",
       "...                                                 ...  \n",
       "3420  https://shopee.co.id/Ginseng-ejiao-dangshen-di...  \n",
       "3421  https://shopee.co.id/mister-golo-golo-ginseng-...  \n",
       "3422  https://shopee.co.id/Kopi-Obat-Kuat-Pria-Tahan...  \n",
       "3423  https://shopee.co.id/Dijamin-Paksu-nya-Greng-4...  \n",
       "3424  https://shopee.co.id/Obat-Lemah-Syahwat-Obat-E...  \n",
       "\n",
       "[3425 rows x 5 columns]"
      ]
     },
     "execution_count": 4,
     "metadata": {},
     "output_type": "execute_result"
    }
   ],
   "source": [
    "df2"
   ]
  },
  {
   "cell_type": "code",
   "execution_count": 6,
   "id": "5a02c9f8-6bdf-4479-b588-5a2d8472c7d3",
   "metadata": {
    "tags": []
   },
   "outputs": [],
   "source": [
    "df2['category_link'] = ''"
   ]
  },
  {
   "cell_type": "code",
   "execution_count": 7,
   "id": "07ad2050-6d89-4cf1-8bbb-849e01ef75d0",
   "metadata": {
    "tags": []
   },
   "outputs": [
    {
     "data": {
      "text/html": [
       "<div>\n",
       "<style scoped>\n",
       "    .dataframe tbody tr th:only-of-type {\n",
       "        vertical-align: middle;\n",
       "    }\n",
       "\n",
       "    .dataframe tbody tr th {\n",
       "        vertical-align: top;\n",
       "    }\n",
       "\n",
       "    .dataframe thead th {\n",
       "        text-align: right;\n",
       "    }\n",
       "</style>\n",
       "<table border=\"1\" class=\"dataframe\">\n",
       "  <thead>\n",
       "    <tr style=\"text-align: right;\">\n",
       "      <th></th>\n",
       "      <th>title</th>\n",
       "      <th>price</th>\n",
       "      <th>sold</th>\n",
       "      <th>location</th>\n",
       "      <th>link</th>\n",
       "      <th>category_link</th>\n",
       "    </tr>\n",
       "  </thead>\n",
       "  <tbody>\n",
       "    <tr>\n",
       "      <th>0</th>\n",
       "      <td>HALAL-Netflix (JINGFENG)  LATIAO Tendon Daging...</td>\n",
       "      <td>9.800</td>\n",
       "      <td>71 Terjual</td>\n",
       "      <td>KAB. GRESIK</td>\n",
       "      <td>https://shopee.co.id/HALAL-Netflix-(JINGFENG)-...</td>\n",
       "      <td></td>\n",
       "    </tr>\n",
       "    <tr>\n",
       "      <th>1</th>\n",
       "      <td>YumBites Macaroni Crispy - Makaroni Krispi Cem...</td>\n",
       "      <td>35.000</td>\n",
       "      <td>181 Terjual</td>\n",
       "      <td>KOTA JAKARTA UTARA</td>\n",
       "      <td>https://shopee.co.id/YumBites-Macaroni-Crispy-...</td>\n",
       "      <td></td>\n",
       "    </tr>\n",
       "    <tr>\n",
       "      <th>2</th>\n",
       "      <td>Coklat Chocodot Update Series Penangkal Bucin 50g</td>\n",
       "      <td>9.750</td>\n",
       "      <td>31 Terjual</td>\n",
       "      <td>KAB. GARUT</td>\n",
       "      <td>https://shopee.co.id/Coklat-Chocodot-Update-Se...</td>\n",
       "      <td></td>\n",
       "    </tr>\n",
       "    <tr>\n",
       "      <th>3</th>\n",
       "      <td>TRIPLE Almond Crispy Cheese Greentea PUNPUN</td>\n",
       "      <td>165.000</td>\n",
       "      <td>92 Terjual</td>\n",
       "      <td>KOTA SURABAYA</td>\n",
       "      <td>https://shopee.co.id/TRIPLE-Almond-Crispy-Chee...</td>\n",
       "      <td></td>\n",
       "    </tr>\n",
       "    <tr>\n",
       "      <th>4</th>\n",
       "      <td>Beryls Chocolate Coklat Durian Import Malaysia...</td>\n",
       "      <td>42.299</td>\n",
       "      <td>481 Terjual</td>\n",
       "      <td>KOTA JAKARTA BARAT</td>\n",
       "      <td>https://shopee.co.id/Beryls-Chocolate-Coklat-D...</td>\n",
       "      <td></td>\n",
       "    </tr>\n",
       "    <tr>\n",
       "      <th>...</th>\n",
       "      <td>...</td>\n",
       "      <td>...</td>\n",
       "      <td>...</td>\n",
       "      <td>...</td>\n",
       "      <td>...</td>\n",
       "      <td>...</td>\n",
       "    </tr>\n",
       "    <tr>\n",
       "      <th>3420</th>\n",
       "      <td>Ginseng ejiao dangshen dihuang,penambah trombo...</td>\n",
       "      <td>216.000</td>\n",
       "      <td>1,1RB Terjual</td>\n",
       "      <td>KOTA SURABAYA</td>\n",
       "      <td>https://shopee.co.id/Ginseng-ejiao-dangshen-di...</td>\n",
       "      <td></td>\n",
       "    </tr>\n",
       "    <tr>\n",
       "      <th>3421</th>\n",
       "      <td>mister golo/golo ginseng/mister golo gingseng ...</td>\n",
       "      <td>59.000</td>\n",
       "      <td>92 Terjual</td>\n",
       "      <td>KOTA JAKARTA TIMUR</td>\n",
       "      <td>https://shopee.co.id/mister-golo-golo-ginseng-...</td>\n",
       "      <td></td>\n",
       "    </tr>\n",
       "    <tr>\n",
       "      <th>3422</th>\n",
       "      <td>Kopi Obat Kuat Pria Tahan Lama BIGMAXX Stamina...</td>\n",
       "      <td>120</td>\n",
       "      <td>NaN</td>\n",
       "      <td>KAB. SUMEDANG</td>\n",
       "      <td>https://shopee.co.id/Kopi-Obat-Kuat-Pria-Tahan...</td>\n",
       "      <td></td>\n",
       "    </tr>\n",
       "    <tr>\n",
       "      <th>3423</th>\n",
       "      <td>Dijamin Paksu nya Greng 4-G Joss Asli Original...</td>\n",
       "      <td>85.000</td>\n",
       "      <td>NaN</td>\n",
       "      <td>KOTA SEMARANG</td>\n",
       "      <td>https://shopee.co.id/Dijamin-Paksu-nya-Greng-4...</td>\n",
       "      <td></td>\n",
       "    </tr>\n",
       "    <tr>\n",
       "      <th>3424</th>\n",
       "      <td>Obat Lemah Syahwat - Obat Ejakulasi Dini - Oba...</td>\n",
       "      <td>60.000</td>\n",
       "      <td>59 Terjual</td>\n",
       "      <td>KOTA JAKARTA TIMUR</td>\n",
       "      <td>https://shopee.co.id/Obat-Lemah-Syahwat-Obat-E...</td>\n",
       "      <td></td>\n",
       "    </tr>\n",
       "  </tbody>\n",
       "</table>\n",
       "<p>3425 rows × 6 columns</p>\n",
       "</div>"
      ],
      "text/plain": [
       "                                                  title    price  \\\n",
       "0     HALAL-Netflix (JINGFENG)  LATIAO Tendon Daging...    9.800   \n",
       "1     YumBites Macaroni Crispy - Makaroni Krispi Cem...   35.000   \n",
       "2     Coklat Chocodot Update Series Penangkal Bucin 50g    9.750   \n",
       "3           TRIPLE Almond Crispy Cheese Greentea PUNPUN  165.000   \n",
       "4     Beryls Chocolate Coklat Durian Import Malaysia...   42.299   \n",
       "...                                                 ...      ...   \n",
       "3420  Ginseng ejiao dangshen dihuang,penambah trombo...  216.000   \n",
       "3421  mister golo/golo ginseng/mister golo gingseng ...   59.000   \n",
       "3422  Kopi Obat Kuat Pria Tahan Lama BIGMAXX Stamina...      120   \n",
       "3423  Dijamin Paksu nya Greng 4-G Joss Asli Original...   85.000   \n",
       "3424  Obat Lemah Syahwat - Obat Ejakulasi Dini - Oba...   60.000   \n",
       "\n",
       "               sold            location  \\\n",
       "0        71 Terjual         KAB. GRESIK   \n",
       "1       181 Terjual  KOTA JAKARTA UTARA   \n",
       "2        31 Terjual          KAB. GARUT   \n",
       "3        92 Terjual       KOTA SURABAYA   \n",
       "4       481 Terjual  KOTA JAKARTA BARAT   \n",
       "...             ...                 ...   \n",
       "3420  1,1RB Terjual       KOTA SURABAYA   \n",
       "3421     92 Terjual  KOTA JAKARTA TIMUR   \n",
       "3422            NaN       KAB. SUMEDANG   \n",
       "3423            NaN       KOTA SEMARANG   \n",
       "3424     59 Terjual  KOTA JAKARTA TIMUR   \n",
       "\n",
       "                                                   link category_link  \n",
       "0     https://shopee.co.id/HALAL-Netflix-(JINGFENG)-...                \n",
       "1     https://shopee.co.id/YumBites-Macaroni-Crispy-...                \n",
       "2     https://shopee.co.id/Coklat-Chocodot-Update-Se...                \n",
       "3     https://shopee.co.id/TRIPLE-Almond-Crispy-Chee...                \n",
       "4     https://shopee.co.id/Beryls-Chocolate-Coklat-D...                \n",
       "...                                                 ...           ...  \n",
       "3420  https://shopee.co.id/Ginseng-ejiao-dangshen-di...                \n",
       "3421  https://shopee.co.id/mister-golo-golo-ginseng-...                \n",
       "3422  https://shopee.co.id/Kopi-Obat-Kuat-Pria-Tahan...                \n",
       "3423  https://shopee.co.id/Dijamin-Paksu-nya-Greng-4...                \n",
       "3424  https://shopee.co.id/Obat-Lemah-Syahwat-Obat-E...                \n",
       "\n",
       "[3425 rows x 6 columns]"
      ]
     },
     "execution_count": 7,
     "metadata": {},
     "output_type": "execute_result"
    }
   ],
   "source": [
    "df2"
   ]
  },
  {
   "cell_type": "code",
   "execution_count": 8,
   "id": "a1dea03b-964c-4187-af1d-70c66190a40e",
   "metadata": {
    "tags": []
   },
   "outputs": [],
   "source": [
    "df_conc = pd.concat([df1, df2])"
   ]
  },
  {
   "cell_type": "code",
   "execution_count": 9,
   "id": "7923e9a3-e0df-4b6a-ad00-78f79fcf49b7",
   "metadata": {
    "tags": []
   },
   "outputs": [
    {
     "data": {
      "text/plain": [
       "(8862, 6)"
      ]
     },
     "execution_count": 9,
     "metadata": {},
     "output_type": "execute_result"
    }
   ],
   "source": [
    "df_conc.shape"
   ]
  },
  {
   "cell_type": "code",
   "execution_count": null,
   "id": "3ac20336-b098-4571-8149-6d0dbb4ab85e",
   "metadata": {},
   "outputs": [],
   "source": []
  },
  {
   "cell_type": "code",
   "execution_count": 4,
   "id": "97ed47bf-c2b7-41d8-b405-5b43cdf39917",
   "metadata": {
    "tags": []
   },
   "outputs": [],
   "source": [
    "df = pd.read_csv('../../dataset/df_labeled_final.csv')"
   ]
  },
  {
   "cell_type": "code",
   "execution_count": 6,
   "id": "2e13cc9a-918b-4d49-a608-6bc37ad7b509",
   "metadata": {
    "tags": []
   },
   "outputs": [],
   "source": [
    "df_used = df[['title', 'label']]"
   ]
  },
  {
   "cell_type": "code",
   "execution_count": 7,
   "id": "95bb9b70-bc43-4442-9b80-bccccf54d83e",
   "metadata": {
    "tags": []
   },
   "outputs": [
    {
     "data": {
      "text/html": [
       "<div>\n",
       "<style scoped>\n",
       "    .dataframe tbody tr th:only-of-type {\n",
       "        vertical-align: middle;\n",
       "    }\n",
       "\n",
       "    .dataframe tbody tr th {\n",
       "        vertical-align: top;\n",
       "    }\n",
       "\n",
       "    .dataframe thead th {\n",
       "        text-align: right;\n",
       "    }\n",
       "</style>\n",
       "<table border=\"1\" class=\"dataframe\">\n",
       "  <thead>\n",
       "    <tr style=\"text-align: right;\">\n",
       "      <th></th>\n",
       "      <th>title</th>\n",
       "      <th>label</th>\n",
       "    </tr>\n",
       "  </thead>\n",
       "  <tbody>\n",
       "    <tr>\n",
       "      <th>0</th>\n",
       "      <td>️ LACTOGEN PREMATUR BBLR 400 GRAM</td>\n",
       "      <td>Legal</td>\n",
       "    </tr>\n",
       "    <tr>\n",
       "      <th>1</th>\n",
       "      <td>‼️CUCI GUDANG‼️ BATITA 1+ 900GRAM | TANPA DUS ...</td>\n",
       "      <td>Legal</td>\n",
       "    </tr>\n",
       "    <tr>\n",
       "      <th>2</th>\n",
       "      <td>‼️CUCI GUDANG‼️ BATITA 1+ 900GRAM | VANILA | 1...</td>\n",
       "      <td>Legal</td>\n",
       "    </tr>\n",
       "    <tr>\n",
       "      <th>3</th>\n",
       "      <td>‼️CUCI GUDANG‼️ DATITA 3+ 900GRAM | TANPA DUS ...</td>\n",
       "      <td>Legal</td>\n",
       "    </tr>\n",
       "    <tr>\n",
       "      <th>4</th>\n",
       "      <td>‼️CUCI GUDANG‼️ DATITA 3+ 900GRAM | VANILA | 3...</td>\n",
       "      <td>Legal</td>\n",
       "    </tr>\n",
       "    <tr>\n",
       "      <th>...</th>\n",
       "      <td>...</td>\n",
       "      <td>...</td>\n",
       "    </tr>\n",
       "    <tr>\n",
       "      <th>2754</th>\n",
       "      <td>Ternak Syams - Premium Susu Kambing Etawa Kolo...</td>\n",
       "      <td>Ilegal</td>\n",
       "    </tr>\n",
       "    <tr>\n",
       "      <th>2755</th>\n",
       "      <td>Totole kaldu jamur 200 gram</td>\n",
       "      <td>Legal</td>\n",
       "    </tr>\n",
       "    <tr>\n",
       "      <th>2756</th>\n",
       "      <td>Trieste Italian Syrup 650mL - Coffee Syrup : C...</td>\n",
       "      <td>Ilegal</td>\n",
       "    </tr>\n",
       "    <tr>\n",
       "      <th>2757</th>\n",
       "      <td>Wilmond Mandarin Orange in Syrup 312gr - Buah ...</td>\n",
       "      <td>Legal</td>\n",
       "    </tr>\n",
       "    <tr>\n",
       "      <th>2758</th>\n",
       "      <td>Yomas kornet ayam 1 kg isi 40</td>\n",
       "      <td>Legal</td>\n",
       "    </tr>\n",
       "  </tbody>\n",
       "</table>\n",
       "<p>2759 rows × 2 columns</p>\n",
       "</div>"
      ],
      "text/plain": [
       "                                                  title   label\n",
       "0                     ️ LACTOGEN PREMATUR BBLR 400 GRAM   Legal\n",
       "1     ‼️CUCI GUDANG‼️ BATITA 1+ 900GRAM | TANPA DUS ...   Legal\n",
       "2     ‼️CUCI GUDANG‼️ BATITA 1+ 900GRAM | VANILA | 1...   Legal\n",
       "3     ‼️CUCI GUDANG‼️ DATITA 3+ 900GRAM | TANPA DUS ...   Legal\n",
       "4     ‼️CUCI GUDANG‼️ DATITA 3+ 900GRAM | VANILA | 3...   Legal\n",
       "...                                                 ...     ...\n",
       "2754  Ternak Syams - Premium Susu Kambing Etawa Kolo...  Ilegal\n",
       "2755                        Totole kaldu jamur 200 gram   Legal\n",
       "2756  Trieste Italian Syrup 650mL - Coffee Syrup : C...  Ilegal\n",
       "2757  Wilmond Mandarin Orange in Syrup 312gr - Buah ...   Legal\n",
       "2758                      Yomas kornet ayam 1 kg isi 40   Legal\n",
       "\n",
       "[2759 rows x 2 columns]"
      ]
     },
     "execution_count": 7,
     "metadata": {},
     "output_type": "execute_result"
    }
   ],
   "source": [
    "df_used"
   ]
  },
  {
   "cell_type": "code",
   "execution_count": 8,
   "id": "46712137-f8f2-4cd9-937f-1686d326cdf5",
   "metadata": {
    "tags": []
   },
   "outputs": [
    {
     "name": "stderr",
     "output_type": "stream",
     "text": [
      "/var/folders/1k/rvddzkqj4yn9vwymqmntyzv00000gn/T/ipykernel_35096/1364206807.py:1: SettingWithCopyWarning: \n",
      "A value is trying to be set on a copy of a slice from a DataFrame.\n",
      "Try using .loc[row_indexer,col_indexer] = value instead\n",
      "\n",
      "See the caveats in the documentation: https://pandas.pydata.org/pandas-docs/stable/user_guide/indexing.html#returning-a-view-versus-a-copy\n",
      "  df_used['label'] = df_used['label'].map({'Ilegal': 1, 'Legal': 0})\n"
     ]
    }
   ],
   "source": [
    "df_used['label'] = df_used['label'].map({'Ilegal': 1, 'Legal': 0})"
   ]
  },
  {
   "cell_type": "code",
   "execution_count": 10,
   "id": "83cd2a4e-1512-4742-bdb1-9d96f894b644",
   "metadata": {
    "tags": []
   },
   "outputs": [
    {
     "data": {
      "text/plain": [
       "label\n",
       "1    1452\n",
       "0    1307\n",
       "Name: count, dtype: int64"
      ]
     },
     "execution_count": 10,
     "metadata": {},
     "output_type": "execute_result"
    }
   ],
   "source": [
    "df_used['label'].value_counts()"
   ]
  },
  {
   "cell_type": "markdown",
   "id": "460942c5-14b9-4d44-aaba-4dde96fa2e4a",
   "metadata": {},
   "source": [
    "## Cleaning"
   ]
  },
  {
   "cell_type": "code",
   "execution_count": 10,
   "id": "063c0748-5fea-4c93-90ec-2981273fe278",
   "metadata": {
    "tags": []
   },
   "outputs": [
    {
     "name": "stderr",
     "output_type": "stream",
     "text": [
      "[nltk_data] Downloading package punkt to\n",
      "[nltk_data]     /Users/muhamadluthfireynaldi/nltk_data...\n",
      "[nltk_data]   Package punkt is already up-to-date!\n",
      "[nltk_data] Downloading package stopwords to\n",
      "[nltk_data]     /Users/muhamadluthfireynaldi/nltk_data...\n",
      "[nltk_data]   Package stopwords is already up-to-date!\n",
      "[nltk_data] Downloading package wordnet to\n",
      "[nltk_data]     /Users/muhamadluthfireynaldi/nltk_data...\n",
      "[nltk_data]   Package wordnet is already up-to-date!\n"
     ]
    },
    {
     "data": {
      "text/plain": [
       "True"
      ]
     },
     "execution_count": 10,
     "metadata": {},
     "output_type": "execute_result"
    }
   ],
   "source": [
    "import re\n",
    "import nltk\n",
    "from nltk.corpus import stopwords\n",
    "from nltk.tokenize import word_tokenize\n",
    "from nltk.stem import WordNetLemmatizer\n",
    "\n",
    "# Download NLTK resources\n",
    "nltk.download('punkt')\n",
    "nltk.download('stopwords')\n",
    "nltk.download('wordnet')"
   ]
  },
  {
   "cell_type": "code",
   "execution_count": 19,
   "id": "9932f40f-fd90-4048-ae94-68f741517f20",
   "metadata": {
    "collapsed": true,
    "jupyter": {
     "outputs_hidden": true
    },
    "tags": []
   },
   "outputs": [
    {
     "name": "stderr",
     "output_type": "stream",
     "text": [
      "[nltk_data] Downloading collection 'popular'\n",
      "[nltk_data]    | \n",
      "[nltk_data]    | Downloading package cmudict to\n",
      "[nltk_data]    |     /Users/muhamadluthfireynaldi/nltk_data...\n",
      "[nltk_data]    |   Package cmudict is already up-to-date!\n",
      "[nltk_data]    | Downloading package gazetteers to\n",
      "[nltk_data]    |     /Users/muhamadluthfireynaldi/nltk_data...\n",
      "[nltk_data]    |   Package gazetteers is already up-to-date!\n",
      "[nltk_data]    | Downloading package genesis to\n",
      "[nltk_data]    |     /Users/muhamadluthfireynaldi/nltk_data...\n",
      "[nltk_data]    |   Package genesis is already up-to-date!\n",
      "[nltk_data]    | Downloading package gutenberg to\n",
      "[nltk_data]    |     /Users/muhamadluthfireynaldi/nltk_data...\n",
      "[nltk_data]    |   Package gutenberg is already up-to-date!\n",
      "[nltk_data]    | Downloading package inaugural to\n",
      "[nltk_data]    |     /Users/muhamadluthfireynaldi/nltk_data...\n",
      "[nltk_data]    |   Package inaugural is already up-to-date!\n",
      "[nltk_data]    | Downloading package movie_reviews to\n",
      "[nltk_data]    |     /Users/muhamadluthfireynaldi/nltk_data...\n",
      "[nltk_data]    |   Package movie_reviews is already up-to-date!\n",
      "[nltk_data]    | Downloading package names to\n",
      "[nltk_data]    |     /Users/muhamadluthfireynaldi/nltk_data...\n",
      "[nltk_data]    |   Package names is already up-to-date!\n",
      "[nltk_data]    | Downloading package shakespeare to\n",
      "[nltk_data]    |     /Users/muhamadluthfireynaldi/nltk_data...\n",
      "[nltk_data]    |   Package shakespeare is already up-to-date!\n",
      "[nltk_data]    | Downloading package stopwords to\n",
      "[nltk_data]    |     /Users/muhamadluthfireynaldi/nltk_data...\n",
      "[nltk_data]    |   Package stopwords is already up-to-date!\n",
      "[nltk_data]    | Downloading package treebank to\n",
      "[nltk_data]    |     /Users/muhamadluthfireynaldi/nltk_data...\n",
      "[nltk_data]    |   Package treebank is already up-to-date!\n",
      "[nltk_data]    | Downloading package twitter_samples to\n",
      "[nltk_data]    |     /Users/muhamadluthfireynaldi/nltk_data...\n",
      "[nltk_data]    |   Package twitter_samples is already up-to-date!\n",
      "[nltk_data]    | Downloading package omw to\n",
      "[nltk_data]    |     /Users/muhamadluthfireynaldi/nltk_data...\n",
      "[nltk_data]    |   Package omw is already up-to-date!\n",
      "[nltk_data]    | Downloading package omw-1.4 to\n",
      "[nltk_data]    |     /Users/muhamadluthfireynaldi/nltk_data...\n",
      "[nltk_data]    |   Package omw-1.4 is already up-to-date!\n",
      "[nltk_data]    | Downloading package wordnet to\n",
      "[nltk_data]    |     /Users/muhamadluthfireynaldi/nltk_data...\n",
      "[nltk_data]    |   Package wordnet is already up-to-date!\n",
      "[nltk_data]    | Downloading package wordnet2021 to\n",
      "[nltk_data]    |     /Users/muhamadluthfireynaldi/nltk_data...\n",
      "[nltk_data]    |   Package wordnet2021 is already up-to-date!\n",
      "[nltk_data]    | Downloading package wordnet31 to\n",
      "[nltk_data]    |     /Users/muhamadluthfireynaldi/nltk_data...\n",
      "[nltk_data]    |   Package wordnet31 is already up-to-date!\n",
      "[nltk_data]    | Downloading package wordnet_ic to\n",
      "[nltk_data]    |     /Users/muhamadluthfireynaldi/nltk_data...\n",
      "[nltk_data]    |   Package wordnet_ic is already up-to-date!\n",
      "[nltk_data]    | Downloading package words to\n",
      "[nltk_data]    |     /Users/muhamadluthfireynaldi/nltk_data...\n",
      "[nltk_data]    |   Package words is already up-to-date!\n",
      "[nltk_data]    | Downloading package maxent_ne_chunker to\n",
      "[nltk_data]    |     /Users/muhamadluthfireynaldi/nltk_data...\n",
      "[nltk_data]    |   Unzipping chunkers/maxent_ne_chunker.zip.\n",
      "[nltk_data]    | Downloading package punkt to\n",
      "[nltk_data]    |     /Users/muhamadluthfireynaldi/nltk_data...\n",
      "[nltk_data]    |   Package punkt is already up-to-date!\n",
      "[nltk_data]    | Downloading package snowball_data to\n",
      "[nltk_data]    |     /Users/muhamadluthfireynaldi/nltk_data...\n",
      "[nltk_data]    | Downloading package averaged_perceptron_tagger to\n",
      "[nltk_data]    |     /Users/muhamadluthfireynaldi/nltk_data...\n",
      "[nltk_data]    |   Unzipping taggers/averaged_perceptron_tagger.zip.\n",
      "[nltk_data]    | \n",
      "[nltk_data]  Done downloading collection popular\n"
     ]
    },
    {
     "data": {
      "text/plain": [
       "True"
      ]
     },
     "execution_count": 19,
     "metadata": {},
     "output_type": "execute_result"
    }
   ],
   "source": [
    "# import nltk\n",
    "# dwlr = nltk.downloader.Downloader()\n",
    "\n",
    "# for pkg in dwlr.corpora():\n",
    "#     dwlr._status_cache[pkg.id] = 'installed'\n",
    "\n",
    "# dwlr.download('popular')"
   ]
  },
  {
   "cell_type": "code",
   "execution_count": 11,
   "id": "5de8c919-444b-4322-9ec7-7068ef165ea9",
   "metadata": {
    "tags": []
   },
   "outputs": [],
   "source": [
    "from nltk.corpus import stopwords\n",
    "#english_s = stopwords.words('english')\n",
    "indonesia_s = stopwords.words('indonesian')"
   ]
  },
  {
   "cell_type": "code",
   "execution_count": 7,
   "id": "802bbfab-def3-4ff9-88bb-280da561a9ed",
   "metadata": {
    "tags": []
   },
   "outputs": [
    {
     "name": "stdout",
     "output_type": "stream",
     "text": [
      "WEIGHT GAIN susu penambah berat badan susu penggemuk badan anak dewasa ampuh cepat super weight gain\n",
      "['WEIGHT', 'GAIN', 'susu', 'penambah', 'berat', 'badan', 'susu', 'penggemuk', 'badan', 'anak', 'dewasa', 'ampuh', 'cepat', 'super', 'weight', 'gain']\n",
      "['weight', 'gain', 'susu', 'penambah', 'berat', 'badan', 'susu', 'penggemuk', 'badan', 'anak', 'dewasa', 'ampuh', 'cepat', 'super', 'weight', 'gain']\n",
      "['weight', 'gain', 'susu', 'tambah', 'berat', 'badan', 'susu', 'gemuk', 'badan', 'anak', 'dewasa', 'ampuh', 'cepat', 'super', 'weight', 'gain']\n"
     ]
    },
    {
     "data": {
      "text/plain": [
       "'weight gain susu tambah berat badan susu gemuk badan anak dewasa ampuh cepat super weight gain'"
      ]
     },
     "execution_count": 7,
     "metadata": {},
     "output_type": "execute_result"
    }
   ],
   "source": [
    "import re\n",
    "import nltk\n",
    "from nltk.corpus import stopwords\n",
    "from nltk.tokenize import word_tokenize\n",
    "from Sastrawi.Stemmer.StemmerFactory import StemmerFactory\n",
    "\n",
    "\n",
    "def preprocess_text(text):\n",
    "    # Remove special characters and numbers\n",
    "    text = re.sub(r'[^a-zA-Z\\s]', '', text)\n",
    "    print(text)\n",
    "    # Tokenize the text\n",
    "    tokens = word_tokenize(text)\n",
    "    print(tokens)\n",
    "    \n",
    "    # Remove stopwords and lowercase the tokens\n",
    "    stop_words = set(stopwords.words('indonesian'))\n",
    "    tokens = [token.lower() for token in tokens if token.lower() not in stop_words]\n",
    "    print(tokens)\n",
    "    \n",
    "    # Lemmatize the tokens using Sasstrawi\n",
    "    stemmer = StemmerFactory().create_stemmer()\n",
    "    tokens = [stemmer.stem(token) for token in tokens]\n",
    "    print(tokens)\n",
    "    \n",
    "    # Join the tokens back into a single string\n",
    "    preprocessed_text = ' '.join(tokens)\n",
    "    \n",
    "    return preprocessed_text\n",
    "\n",
    "preprocess_text(\"WEIGHT GAIN susu penambah berat badan susu penggemuk badan anak dewasa ampuh cepat super weight gain\")\n",
    "# preprocessed_texts = [preprocess_text(title) for title in df_conc['title']]\n",
    "# df_conc['preprocessed_text'] = preprocessed_texts"
   ]
  },
  {
   "cell_type": "code",
   "execution_count": 13,
   "id": "d8db0721-e890-43d6-8fc0-13fffd9d68e9",
   "metadata": {
    "tags": []
   },
   "outputs": [
    {
     "data": {
      "text/html": [
       "<div>\n",
       "<style scoped>\n",
       "    .dataframe tbody tr th:only-of-type {\n",
       "        vertical-align: middle;\n",
       "    }\n",
       "\n",
       "    .dataframe tbody tr th {\n",
       "        vertical-align: top;\n",
       "    }\n",
       "\n",
       "    .dataframe thead th {\n",
       "        text-align: right;\n",
       "    }\n",
       "</style>\n",
       "<table border=\"1\" class=\"dataframe\">\n",
       "  <thead>\n",
       "    <tr style=\"text-align: right;\">\n",
       "      <th></th>\n",
       "      <th>title</th>\n",
       "      <th>preprocessed_text</th>\n",
       "    </tr>\n",
       "  </thead>\n",
       "  <tbody>\n",
       "    <tr>\n",
       "      <th>0</th>\n",
       "      <td>basreng sultan bandung 1kg viral tiktok pedas ...</td>\n",
       "      <td>basreng sultan bandung kg viral tiktok pedas d...</td>\n",
       "    </tr>\n",
       "    <tr>\n",
       "      <th>1</th>\n",
       "      <td>Grandville Abon Original / abon anak No MSG ha...</td>\n",
       "      <td>grandville abon original abon anak no msg hala...</td>\n",
       "    </tr>\n",
       "    <tr>\n",
       "      <th>2</th>\n",
       "      <td>MINYAK GORENG SUNCO 500 ML</td>\n",
       "      <td>minyak goreng sunco ml</td>\n",
       "    </tr>\n",
       "    <tr>\n",
       "      <th>3</th>\n",
       "      <td>BASRENG ORIGINAL MURAH VIRAL TIKTOK PEDAS DAUN...</td>\n",
       "      <td>basreng original murah viral tiktok pedas daun...</td>\n",
       "    </tr>\n",
       "    <tr>\n",
       "      <th>4</th>\n",
       "      <td>Basreng Stik Pedas Daun Jeruk 1kg</td>\n",
       "      <td>basreng stik pedas daun jeruk kg</td>\n",
       "    </tr>\n",
       "    <tr>\n",
       "      <th>...</th>\n",
       "      <td>...</td>\n",
       "      <td>...</td>\n",
       "    </tr>\n",
       "    <tr>\n",
       "      <th>3420</th>\n",
       "      <td>Ginseng ejiao dangshen dihuang,penambah trombo...</td>\n",
       "      <td>ginseng ejiao dangshen dihuangpenambah trombos...</td>\n",
       "    </tr>\n",
       "    <tr>\n",
       "      <th>3421</th>\n",
       "      <td>mister golo/golo ginseng/mister golo gingseng ...</td>\n",
       "      <td>mister gologolo ginsengmister golo gingseng su...</td>\n",
       "    </tr>\n",
       "    <tr>\n",
       "      <th>3422</th>\n",
       "      <td>Kopi Obat Kuat Pria Tahan Lama BIGMAXX Stamina...</td>\n",
       "      <td>kopi obat kuat pria tahan bigmaxx stamina extr...</td>\n",
       "    </tr>\n",
       "    <tr>\n",
       "      <th>3423</th>\n",
       "      <td>Dijamin Paksu nya Greng 4-G Joss Asli Original...</td>\n",
       "      <td>jamin paksu nya greng g joss asli original ban...</td>\n",
       "    </tr>\n",
       "    <tr>\n",
       "      <th>3424</th>\n",
       "      <td>Obat Lemah Syahwat - Obat Ejakulasi Dini - Oba...</td>\n",
       "      <td>obat lemah syahwat obat ejakulasi obat disfung...</td>\n",
       "    </tr>\n",
       "  </tbody>\n",
       "</table>\n",
       "<p>8862 rows × 2 columns</p>\n",
       "</div>"
      ],
      "text/plain": [
       "                                                  title  \\\n",
       "0     basreng sultan bandung 1kg viral tiktok pedas ...   \n",
       "1     Grandville Abon Original / abon anak No MSG ha...   \n",
       "2                            MINYAK GORENG SUNCO 500 ML   \n",
       "3     BASRENG ORIGINAL MURAH VIRAL TIKTOK PEDAS DAUN...   \n",
       "4                     Basreng Stik Pedas Daun Jeruk 1kg   \n",
       "...                                                 ...   \n",
       "3420  Ginseng ejiao dangshen dihuang,penambah trombo...   \n",
       "3421  mister golo/golo ginseng/mister golo gingseng ...   \n",
       "3422  Kopi Obat Kuat Pria Tahan Lama BIGMAXX Stamina...   \n",
       "3423  Dijamin Paksu nya Greng 4-G Joss Asli Original...   \n",
       "3424  Obat Lemah Syahwat - Obat Ejakulasi Dini - Oba...   \n",
       "\n",
       "                                      preprocessed_text  \n",
       "0     basreng sultan bandung kg viral tiktok pedas d...  \n",
       "1     grandville abon original abon anak no msg hala...  \n",
       "2                                minyak goreng sunco ml  \n",
       "3     basreng original murah viral tiktok pedas daun...  \n",
       "4                      basreng stik pedas daun jeruk kg  \n",
       "...                                                 ...  \n",
       "3420  ginseng ejiao dangshen dihuangpenambah trombos...  \n",
       "3421  mister gologolo ginsengmister golo gingseng su...  \n",
       "3422  kopi obat kuat pria tahan bigmaxx stamina extr...  \n",
       "3423  jamin paksu nya greng g joss asli original ban...  \n",
       "3424  obat lemah syahwat obat ejakulasi obat disfung...  \n",
       "\n",
       "[8862 rows x 2 columns]"
      ]
     },
     "execution_count": 13,
     "metadata": {},
     "output_type": "execute_result"
    }
   ],
   "source": [
    "df_conc[['title', 'preprocessed_text']]"
   ]
  },
  {
   "cell_type": "code",
   "execution_count": 14,
   "id": "bab6ba7c-3c04-4fd5-a061-e27cd91babc3",
   "metadata": {
    "tags": []
   },
   "outputs": [],
   "source": [
    "df_conc.to_csv('../../dataset/df_cleaned_final.csv', index=False)"
   ]
  },
  {
   "cell_type": "code",
   "execution_count": 2,
   "id": "22d11e3c-4193-42e6-aa2a-b2bef046c49a",
   "metadata": {
    "tags": []
   },
   "outputs": [],
   "source": [
    "df_conc = pd.read_csv('../../dataset/df_cleaned_final.csv')"
   ]
  },
  {
   "cell_type": "code",
   "execution_count": 3,
   "id": "a0076c56-2bf1-4d21-8fa8-c6c62dcb7255",
   "metadata": {
    "tags": []
   },
   "outputs": [
    {
     "data": {
      "text/html": [
       "<div>\n",
       "<style scoped>\n",
       "    .dataframe tbody tr th:only-of-type {\n",
       "        vertical-align: middle;\n",
       "    }\n",
       "\n",
       "    .dataframe tbody tr th {\n",
       "        vertical-align: top;\n",
       "    }\n",
       "\n",
       "    .dataframe thead th {\n",
       "        text-align: right;\n",
       "    }\n",
       "</style>\n",
       "<table border=\"1\" class=\"dataframe\">\n",
       "  <thead>\n",
       "    <tr style=\"text-align: right;\">\n",
       "      <th></th>\n",
       "      <th>title</th>\n",
       "      <th>price</th>\n",
       "      <th>sold</th>\n",
       "      <th>location</th>\n",
       "      <th>link</th>\n",
       "      <th>category_link</th>\n",
       "      <th>preprocessed_text</th>\n",
       "    </tr>\n",
       "  </thead>\n",
       "  <tbody>\n",
       "    <tr>\n",
       "      <th>0</th>\n",
       "      <td>basreng sultan bandung 1kg viral tiktok pedas ...</td>\n",
       "      <td>35.000</td>\n",
       "      <td>10RB+ Terjual</td>\n",
       "      <td>KAB. BANDUNG</td>\n",
       "      <td>https://shopee.co.id/basreng-sultan-bandung-1k...</td>\n",
       "      <td>https://shopee.co.id/Makanan-Minuman-cat.11043451</td>\n",
       "      <td>basreng sultan bandung kg viral tiktok pedas d...</td>\n",
       "    </tr>\n",
       "    <tr>\n",
       "      <th>1</th>\n",
       "      <td>Grandville Abon Original / abon anak No MSG ha...</td>\n",
       "      <td>37.500</td>\n",
       "      <td>10RB+ Terjual</td>\n",
       "      <td>KOTA DEPOK</td>\n",
       "      <td>https://shopee.co.id/Grandville-Abon-Original-...</td>\n",
       "      <td>https://shopee.co.id/Makanan-Minuman-cat.11043451</td>\n",
       "      <td>grandville abon original abon anak no msg hala...</td>\n",
       "    </tr>\n",
       "    <tr>\n",
       "      <th>2</th>\n",
       "      <td>MINYAK GORENG SUNCO 500 ML</td>\n",
       "      <td>9.900</td>\n",
       "      <td>10RB+ Terjual</td>\n",
       "      <td>KOTA DEPOK</td>\n",
       "      <td>https://shopee.co.id/MINYAK-GORENG-SUNCO-500-M...</td>\n",
       "      <td>https://shopee.co.id/Makanan-Minuman-cat.11043451</td>\n",
       "      <td>minyak goreng sunco ml</td>\n",
       "    </tr>\n",
       "    <tr>\n",
       "      <th>3</th>\n",
       "      <td>BASRENG ORIGINAL MURAH VIRAL TIKTOK PEDAS DAUN...</td>\n",
       "      <td>19.999</td>\n",
       "      <td>10RB+ Terjual</td>\n",
       "      <td>KAB. MOJOKERTO</td>\n",
       "      <td>https://shopee.co.id/BASRENG-ORIGINAL-MURAH-VI...</td>\n",
       "      <td>https://shopee.co.id/Makanan-Minuman-cat.11043451</td>\n",
       "      <td>basreng original murah viral tiktok pedas daun...</td>\n",
       "    </tr>\n",
       "    <tr>\n",
       "      <th>4</th>\n",
       "      <td>Basreng Stik Pedas Daun Jeruk 1kg</td>\n",
       "      <td>30.000</td>\n",
       "      <td>10RB+ Terjual</td>\n",
       "      <td>KAB. BANDUNG</td>\n",
       "      <td>https://shopee.co.id/Basreng-Stik-Pedas-Daun-J...</td>\n",
       "      <td>https://shopee.co.id/Makanan-Minuman-cat.11043451</td>\n",
       "      <td>basreng stik pedas daun jeruk kg</td>\n",
       "    </tr>\n",
       "    <tr>\n",
       "      <th>...</th>\n",
       "      <td>...</td>\n",
       "      <td>...</td>\n",
       "      <td>...</td>\n",
       "      <td>...</td>\n",
       "      <td>...</td>\n",
       "      <td>...</td>\n",
       "      <td>...</td>\n",
       "    </tr>\n",
       "    <tr>\n",
       "      <th>8857</th>\n",
       "      <td>Ginseng ejiao dangshen dihuang,penambah trombo...</td>\n",
       "      <td>216.000</td>\n",
       "      <td>1,1RB Terjual</td>\n",
       "      <td>KOTA SURABAYA</td>\n",
       "      <td>https://shopee.co.id/Ginseng-ejiao-dangshen-di...</td>\n",
       "      <td>NaN</td>\n",
       "      <td>ginseng ejiao dangshen dihuangpenambah trombos...</td>\n",
       "    </tr>\n",
       "    <tr>\n",
       "      <th>8858</th>\n",
       "      <td>mister golo/golo ginseng/mister golo gingseng ...</td>\n",
       "      <td>59.000</td>\n",
       "      <td>92 Terjual</td>\n",
       "      <td>KOTA JAKARTA TIMUR</td>\n",
       "      <td>https://shopee.co.id/mister-golo-golo-ginseng-...</td>\n",
       "      <td>NaN</td>\n",
       "      <td>mister gologolo ginsengmister golo gingseng su...</td>\n",
       "    </tr>\n",
       "    <tr>\n",
       "      <th>8859</th>\n",
       "      <td>Kopi Obat Kuat Pria Tahan Lama BIGMAXX Stamina...</td>\n",
       "      <td>120</td>\n",
       "      <td>NaN</td>\n",
       "      <td>KAB. SUMEDANG</td>\n",
       "      <td>https://shopee.co.id/Kopi-Obat-Kuat-Pria-Tahan...</td>\n",
       "      <td>NaN</td>\n",
       "      <td>kopi obat kuat pria tahan bigmaxx stamina extr...</td>\n",
       "    </tr>\n",
       "    <tr>\n",
       "      <th>8860</th>\n",
       "      <td>Dijamin Paksu nya Greng 4-G Joss Asli Original...</td>\n",
       "      <td>85.000</td>\n",
       "      <td>NaN</td>\n",
       "      <td>KOTA SEMARANG</td>\n",
       "      <td>https://shopee.co.id/Dijamin-Paksu-nya-Greng-4...</td>\n",
       "      <td>NaN</td>\n",
       "      <td>jamin paksu nya greng g joss asli original ban...</td>\n",
       "    </tr>\n",
       "    <tr>\n",
       "      <th>8861</th>\n",
       "      <td>Obat Lemah Syahwat - Obat Ejakulasi Dini - Oba...</td>\n",
       "      <td>60.000</td>\n",
       "      <td>59 Terjual</td>\n",
       "      <td>KOTA JAKARTA TIMUR</td>\n",
       "      <td>https://shopee.co.id/Obat-Lemah-Syahwat-Obat-E...</td>\n",
       "      <td>NaN</td>\n",
       "      <td>obat lemah syahwat obat ejakulasi obat disfung...</td>\n",
       "    </tr>\n",
       "  </tbody>\n",
       "</table>\n",
       "<p>8862 rows × 7 columns</p>\n",
       "</div>"
      ],
      "text/plain": [
       "                                                  title    price  \\\n",
       "0     basreng sultan bandung 1kg viral tiktok pedas ...   35.000   \n",
       "1     Grandville Abon Original / abon anak No MSG ha...   37.500   \n",
       "2                            MINYAK GORENG SUNCO 500 ML    9.900   \n",
       "3     BASRENG ORIGINAL MURAH VIRAL TIKTOK PEDAS DAUN...   19.999   \n",
       "4                     Basreng Stik Pedas Daun Jeruk 1kg   30.000   \n",
       "...                                                 ...      ...   \n",
       "8857  Ginseng ejiao dangshen dihuang,penambah trombo...  216.000   \n",
       "8858  mister golo/golo ginseng/mister golo gingseng ...   59.000   \n",
       "8859  Kopi Obat Kuat Pria Tahan Lama BIGMAXX Stamina...      120   \n",
       "8860  Dijamin Paksu nya Greng 4-G Joss Asli Original...   85.000   \n",
       "8861  Obat Lemah Syahwat - Obat Ejakulasi Dini - Oba...   60.000   \n",
       "\n",
       "               sold            location  \\\n",
       "0     10RB+ Terjual        KAB. BANDUNG   \n",
       "1     10RB+ Terjual          KOTA DEPOK   \n",
       "2     10RB+ Terjual          KOTA DEPOK   \n",
       "3     10RB+ Terjual      KAB. MOJOKERTO   \n",
       "4     10RB+ Terjual        KAB. BANDUNG   \n",
       "...             ...                 ...   \n",
       "8857  1,1RB Terjual       KOTA SURABAYA   \n",
       "8858     92 Terjual  KOTA JAKARTA TIMUR   \n",
       "8859            NaN       KAB. SUMEDANG   \n",
       "8860            NaN       KOTA SEMARANG   \n",
       "8861     59 Terjual  KOTA JAKARTA TIMUR   \n",
       "\n",
       "                                                   link  \\\n",
       "0     https://shopee.co.id/basreng-sultan-bandung-1k...   \n",
       "1     https://shopee.co.id/Grandville-Abon-Original-...   \n",
       "2     https://shopee.co.id/MINYAK-GORENG-SUNCO-500-M...   \n",
       "3     https://shopee.co.id/BASRENG-ORIGINAL-MURAH-VI...   \n",
       "4     https://shopee.co.id/Basreng-Stik-Pedas-Daun-J...   \n",
       "...                                                 ...   \n",
       "8857  https://shopee.co.id/Ginseng-ejiao-dangshen-di...   \n",
       "8858  https://shopee.co.id/mister-golo-golo-ginseng-...   \n",
       "8859  https://shopee.co.id/Kopi-Obat-Kuat-Pria-Tahan...   \n",
       "8860  https://shopee.co.id/Dijamin-Paksu-nya-Greng-4...   \n",
       "8861  https://shopee.co.id/Obat-Lemah-Syahwat-Obat-E...   \n",
       "\n",
       "                                          category_link  \\\n",
       "0     https://shopee.co.id/Makanan-Minuman-cat.11043451   \n",
       "1     https://shopee.co.id/Makanan-Minuman-cat.11043451   \n",
       "2     https://shopee.co.id/Makanan-Minuman-cat.11043451   \n",
       "3     https://shopee.co.id/Makanan-Minuman-cat.11043451   \n",
       "4     https://shopee.co.id/Makanan-Minuman-cat.11043451   \n",
       "...                                                 ...   \n",
       "8857                                                NaN   \n",
       "8858                                                NaN   \n",
       "8859                                                NaN   \n",
       "8860                                                NaN   \n",
       "8861                                                NaN   \n",
       "\n",
       "                                      preprocessed_text  \n",
       "0     basreng sultan bandung kg viral tiktok pedas d...  \n",
       "1     grandville abon original abon anak no msg hala...  \n",
       "2                                minyak goreng sunco ml  \n",
       "3     basreng original murah viral tiktok pedas daun...  \n",
       "4                      basreng stik pedas daun jeruk kg  \n",
       "...                                                 ...  \n",
       "8857  ginseng ejiao dangshen dihuangpenambah trombos...  \n",
       "8858  mister gologolo ginsengmister golo gingseng su...  \n",
       "8859  kopi obat kuat pria tahan bigmaxx stamina extr...  \n",
       "8860  jamin paksu nya greng g joss asli original ban...  \n",
       "8861  obat lemah syahwat obat ejakulasi obat disfung...  \n",
       "\n",
       "[8862 rows x 7 columns]"
      ]
     },
     "execution_count": 3,
     "metadata": {},
     "output_type": "execute_result"
    }
   ],
   "source": [
    "df_conc"
   ]
  },
  {
   "cell_type": "markdown",
   "id": "d7fb08f1-dfea-4f6b-8702-e9ae981147b9",
   "metadata": {},
   "source": [
    "### Word2Vec - Word Embedding"
   ]
  },
  {
   "cell_type": "code",
   "execution_count": 4,
   "id": "0df96af9-1138-4c84-b2cc-53d77fc53fc8",
   "metadata": {
    "tags": []
   },
   "outputs": [
    {
     "name": "stderr",
     "output_type": "stream",
     "text": [
      "[nltk_data] Downloading package punkt to\n",
      "[nltk_data]     /Users/muhamadluthfireynaldi/nltk_data...\n",
      "[nltk_data]   Package punkt is already up-to-date!\n"
     ]
    },
    {
     "data": {
      "text/plain": [
       "True"
      ]
     },
     "execution_count": 4,
     "metadata": {},
     "output_type": "execute_result"
    }
   ],
   "source": [
    "import pandas as pd\n",
    "from gensim.models import Word2Vec\n",
    "from nltk.tokenize import word_tokenize\n",
    "import nltk\n",
    "nltk.download('punkt')"
   ]
  },
  {
   "cell_type": "code",
   "execution_count": 17,
   "id": "3f418f48-a4f3-430f-b0fb-d352442a4410",
   "metadata": {
    "tags": []
   },
   "outputs": [],
   "source": [
    "df_conc['tokenized_title'] = df_conc['preprocessed_text'].apply(word_tokenize)\n",
    "\n",
    "word2vec_model = Word2Vec(df_conc['tokenized_title'], vector_size=100, window=10, min_count=1, workers=4)\n",
    "word2vec_model.save('word2vec_model_3.model')"
   ]
  },
  {
   "cell_type": "code",
   "execution_count": 5,
   "id": "48bb01e9-d47c-4188-ae04-9a4d9b237af2",
   "metadata": {
    "tags": []
   },
   "outputs": [],
   "source": [
    "model = Word2Vec.load('word2vec_model_3.model')"
   ]
  },
  {
   "cell_type": "code",
   "execution_count": null,
   "id": "44847bfb-94ca-4b72-9325-3ba6d9dc3e57",
   "metadata": {},
   "outputs": [],
   "source": []
  },
  {
   "cell_type": "code",
   "execution_count": 48,
   "id": "c68f9163-8ac6-4f54-9925-91cd13efb4c9",
   "metadata": {
    "tags": []
   },
   "outputs": [
    {
     "name": "stdout",
     "output_type": "stream",
     "text": [
      "snack: 0.9921791553497314\n",
      "ringan: 0.9846801161766052\n",
      "an: 0.9841180443763733\n",
      "kilo: 0.9760900139808655\n",
      "serba: 0.9758464694023132\n",
      "jajan: 0.9706935882568359\n",
      "latiao: 0.9651387333869934\n",
      "camil: 0.9647635221481323\n",
      "gluten: 0.964328944683075\n",
      "ribu: 0.9573124051094055\n"
     ]
    }
   ],
   "source": [
    "similar_words = model.wv.most_similar('cemilan', topn=10)\n",
    "for word, similarity in similar_words:\n",
    "    print(f\"{word}: {similarity}\")"
   ]
  },
  {
   "cell_type": "code",
   "execution_count": null,
   "id": "256c2470-798c-4d9f-8f41-58ac93499128",
   "metadata": {},
   "outputs": [],
   "source": [
    "similar_words = model.wv.most_similar_cosmul(positive=['donat'])"
   ]
  },
  {
   "cell_type": "code",
   "execution_count": 13,
   "id": "f616afa5-d526-4fb7-9947-dac610a94edc",
   "metadata": {
    "tags": []
   },
   "outputs": [],
   "source": [
    "# Convert each word in your text data into a vector representation\n",
    "df['title_vectors'] = df['tokenized_title'].apply(lambda x: [word2vec_model.wv[word] for word in x])"
   ]
  },
  {
   "cell_type": "code",
   "execution_count": 21,
   "id": "0fe86e20-9769-463d-90b9-f83f7e3c4e46",
   "metadata": {
    "tags": []
   },
   "outputs": [
    {
     "data": {
      "text/plain": [
       "0       [[-0.0017641552, 0.010312495, 0.0037980191, 0....\n",
       "1       [[-0.013591199, 0.012524441, 0.00906593, -0.00...\n",
       "2       [[-0.013591199, 0.012524441, 0.00906593, -0.00...\n",
       "3       [[-0.013591199, 0.012524441, 0.00906593, -0.00...\n",
       "4       [[-0.013591199, 0.012524441, 0.00906593, -0.00...\n",
       "                              ...                        \n",
       "2754    [[0.0045665326, 0.003025991, 0.00054588047, 0....\n",
       "2755    [[0.004845, 0.01132209, 0.0071531744, -0.00087...\n",
       "2756    [[-0.0043198504, 0.008011043, 0.009222714, -0....\n",
       "2757    [[0.000407929, 0.0012072738, -0.0077722347, -0...\n",
       "2758    [[-0.009602969, 0.0022720133, 0.007929392, 0.0...\n",
       "Name: title_vectors, Length: 2759, dtype: object"
      ]
     },
     "execution_count": 21,
     "metadata": {},
     "output_type": "execute_result"
    }
   ],
   "source": [
    "df['title_vectors']"
   ]
  },
  {
   "cell_type": "code",
   "execution_count": 19,
   "id": "c0e62de5-9a86-45ab-b897-ded391d59f53",
   "metadata": {
    "tags": []
   },
   "outputs": [
    {
     "data": {
      "text/plain": [
       "6"
      ]
     },
     "execution_count": 19,
     "metadata": {},
     "output_type": "execute_result"
    }
   ],
   "source": [
    "len(df['title_vectors'][0])"
   ]
  },
  {
   "cell_type": "code",
   "execution_count": 18,
   "id": "ee8ebfb1-5c93-43f9-b291-9b94826eb49b",
   "metadata": {
    "tags": []
   },
   "outputs": [
    {
     "data": {
      "text/plain": [
       "6"
      ]
     },
     "execution_count": 18,
     "metadata": {},
     "output_type": "execute_result"
    }
   ],
   "source": [
    "len(df['tokenized_title'][0])"
   ]
  },
  {
   "cell_type": "code",
   "execution_count": 33,
   "id": "a9ff1ea2-da39-4e92-bcdc-15ff51a2c1b8",
   "metadata": {
    "tags": []
   },
   "outputs": [],
   "source": [
    "df_tokenized = df[['title', 'tokenized_title','title_vectors', 'label', 'link']]"
   ]
  },
  {
   "cell_type": "code",
   "execution_count": 34,
   "id": "939235e1-2d51-4ecd-9649-9f80f4dc3853",
   "metadata": {
    "tags": []
   },
   "outputs": [
    {
     "data": {
      "text/html": [
       "<div>\n",
       "<style scoped>\n",
       "    .dataframe tbody tr th:only-of-type {\n",
       "        vertical-align: middle;\n",
       "    }\n",
       "\n",
       "    .dataframe tbody tr th {\n",
       "        vertical-align: top;\n",
       "    }\n",
       "\n",
       "    .dataframe thead th {\n",
       "        text-align: right;\n",
       "    }\n",
       "</style>\n",
       "<table border=\"1\" class=\"dataframe\">\n",
       "  <thead>\n",
       "    <tr style=\"text-align: right;\">\n",
       "      <th></th>\n",
       "      <th>title</th>\n",
       "      <th>tokenized_title</th>\n",
       "      <th>title_vectors</th>\n",
       "      <th>label</th>\n",
       "      <th>link</th>\n",
       "    </tr>\n",
       "  </thead>\n",
       "  <tbody>\n",
       "    <tr>\n",
       "      <th>0</th>\n",
       "      <td>️ LACTOGEN PREMATUR BBLR 400 GRAM</td>\n",
       "      <td>[️, LACTOGEN, PREMATUR, BBLR, 400, GRAM]</td>\n",
       "      <td>[[-0.0017641552, 0.010312495, 0.0037980191, 0....</td>\n",
       "      <td>Legal</td>\n",
       "      <td>https://shopee.co.id/️-LACTOGEN-PREMATUR-BBLR-...</td>\n",
       "    </tr>\n",
       "    <tr>\n",
       "      <th>1</th>\n",
       "      <td>‼️CUCI GUDANG‼️ BATITA 1+ 900GRAM | TANPA DUS ...</td>\n",
       "      <td>[‼️CUCI, GUDANG‼️, BATITA, 1+, 900GRAM, |, TAN...</td>\n",
       "      <td>[[-0.013591199, 0.012524441, 0.00906593, -0.00...</td>\n",
       "      <td>Legal</td>\n",
       "      <td>https://shopee.co.id/‼️CUCI-GUDANG‼️-BATITA-1-...</td>\n",
       "    </tr>\n",
       "    <tr>\n",
       "      <th>2</th>\n",
       "      <td>‼️CUCI GUDANG‼️ BATITA 1+ 900GRAM | VANILA | 1...</td>\n",
       "      <td>[‼️CUCI, GUDANG‼️, BATITA, 1+, 900GRAM, |, VAN...</td>\n",
       "      <td>[[-0.013591199, 0.012524441, 0.00906593, -0.00...</td>\n",
       "      <td>Legal</td>\n",
       "      <td>https://shopee.co.id/‼️CUCI-GUDANG‼️-BATITA-1-...</td>\n",
       "    </tr>\n",
       "    <tr>\n",
       "      <th>3</th>\n",
       "      <td>‼️CUCI GUDANG‼️ DATITA 3+ 900GRAM | TANPA DUS ...</td>\n",
       "      <td>[‼️CUCI, GUDANG‼️, DATITA, 3+, 900GRAM, |, TAN...</td>\n",
       "      <td>[[-0.013591199, 0.012524441, 0.00906593, -0.00...</td>\n",
       "      <td>Legal</td>\n",
       "      <td>https://shopee.co.id/‼️CUCI-GUDANG‼️-DATITA-3-...</td>\n",
       "    </tr>\n",
       "    <tr>\n",
       "      <th>4</th>\n",
       "      <td>‼️CUCI GUDANG‼️ DATITA 3+ 900GRAM | VANILA | 3...</td>\n",
       "      <td>[‼️CUCI, GUDANG‼️, DATITA, 3+, 900GRAM, |, VAN...</td>\n",
       "      <td>[[-0.013591199, 0.012524441, 0.00906593, -0.00...</td>\n",
       "      <td>Legal</td>\n",
       "      <td>https://shopee.co.id/‼️CUCI-GUDANG‼️-DATITA-3-...</td>\n",
       "    </tr>\n",
       "    <tr>\n",
       "      <th>...</th>\n",
       "      <td>...</td>\n",
       "      <td>...</td>\n",
       "      <td>...</td>\n",
       "      <td>...</td>\n",
       "      <td>...</td>\n",
       "    </tr>\n",
       "    <tr>\n",
       "      <th>2754</th>\n",
       "      <td>Ternak Syams - Premium Susu Kambing Etawa Kolo...</td>\n",
       "      <td>[Ternak, Syams, -, Premium, Susu, Kambing, Eta...</td>\n",
       "      <td>[[0.0045665326, 0.003025991, 0.00054588047, 0....</td>\n",
       "      <td>Ilegal</td>\n",
       "      <td>https://shopee.co.id/Ternak-Syams-Premium-Susu...</td>\n",
       "    </tr>\n",
       "    <tr>\n",
       "      <th>2755</th>\n",
       "      <td>Totole kaldu jamur 200 gram</td>\n",
       "      <td>[Totole, kaldu, jamur, 200, gram]</td>\n",
       "      <td>[[0.004845, 0.01132209, 0.0071531744, -0.00087...</td>\n",
       "      <td>Legal</td>\n",
       "      <td>https://shopee.co.id/Totole-kaldu-jamur-200-gr...</td>\n",
       "    </tr>\n",
       "    <tr>\n",
       "      <th>2756</th>\n",
       "      <td>Trieste Italian Syrup 650mL - Coffee Syrup : C...</td>\n",
       "      <td>[Trieste, Italian, Syrup, 650mL, -, Coffee, Sy...</td>\n",
       "      <td>[[-0.0043198504, 0.008011043, 0.009222714, -0....</td>\n",
       "      <td>Ilegal</td>\n",
       "      <td>https://shopee.co.id/Trieste-Italian-Syrup-650...</td>\n",
       "    </tr>\n",
       "    <tr>\n",
       "      <th>2757</th>\n",
       "      <td>Wilmond Mandarin Orange in Syrup 312gr - Buah ...</td>\n",
       "      <td>[Wilmond, Mandarin, Orange, in, Syrup, 312gr, ...</td>\n",
       "      <td>[[0.000407929, 0.0012072738, -0.0077722347, -0...</td>\n",
       "      <td>Legal</td>\n",
       "      <td>https://shopee.co.id/Wilmond-Mandarin-Orange-i...</td>\n",
       "    </tr>\n",
       "    <tr>\n",
       "      <th>2758</th>\n",
       "      <td>Yomas kornet ayam 1 kg isi 40</td>\n",
       "      <td>[Yomas, kornet, ayam, 1, kg, isi, 40]</td>\n",
       "      <td>[[-0.009602969, 0.0022720133, 0.007929392, 0.0...</td>\n",
       "      <td>Legal</td>\n",
       "      <td>https://shopee.co.id/Yomas-kornet-ayam-1-kg-is...</td>\n",
       "    </tr>\n",
       "  </tbody>\n",
       "</table>\n",
       "<p>2759 rows × 5 columns</p>\n",
       "</div>"
      ],
      "text/plain": [
       "                                                  title  \\\n",
       "0                     ️ LACTOGEN PREMATUR BBLR 400 GRAM   \n",
       "1     ‼️CUCI GUDANG‼️ BATITA 1+ 900GRAM | TANPA DUS ...   \n",
       "2     ‼️CUCI GUDANG‼️ BATITA 1+ 900GRAM | VANILA | 1...   \n",
       "3     ‼️CUCI GUDANG‼️ DATITA 3+ 900GRAM | TANPA DUS ...   \n",
       "4     ‼️CUCI GUDANG‼️ DATITA 3+ 900GRAM | VANILA | 3...   \n",
       "...                                                 ...   \n",
       "2754  Ternak Syams - Premium Susu Kambing Etawa Kolo...   \n",
       "2755                        Totole kaldu jamur 200 gram   \n",
       "2756  Trieste Italian Syrup 650mL - Coffee Syrup : C...   \n",
       "2757  Wilmond Mandarin Orange in Syrup 312gr - Buah ...   \n",
       "2758                      Yomas kornet ayam 1 kg isi 40   \n",
       "\n",
       "                                        tokenized_title  \\\n",
       "0              [️, LACTOGEN, PREMATUR, BBLR, 400, GRAM]   \n",
       "1     [‼️CUCI, GUDANG‼️, BATITA, 1+, 900GRAM, |, TAN...   \n",
       "2     [‼️CUCI, GUDANG‼️, BATITA, 1+, 900GRAM, |, VAN...   \n",
       "3     [‼️CUCI, GUDANG‼️, DATITA, 3+, 900GRAM, |, TAN...   \n",
       "4     [‼️CUCI, GUDANG‼️, DATITA, 3+, 900GRAM, |, VAN...   \n",
       "...                                                 ...   \n",
       "2754  [Ternak, Syams, -, Premium, Susu, Kambing, Eta...   \n",
       "2755                  [Totole, kaldu, jamur, 200, gram]   \n",
       "2756  [Trieste, Italian, Syrup, 650mL, -, Coffee, Sy...   \n",
       "2757  [Wilmond, Mandarin, Orange, in, Syrup, 312gr, ...   \n",
       "2758              [Yomas, kornet, ayam, 1, kg, isi, 40]   \n",
       "\n",
       "                                          title_vectors   label  \\\n",
       "0     [[-0.0017641552, 0.010312495, 0.0037980191, 0....   Legal   \n",
       "1     [[-0.013591199, 0.012524441, 0.00906593, -0.00...   Legal   \n",
       "2     [[-0.013591199, 0.012524441, 0.00906593, -0.00...   Legal   \n",
       "3     [[-0.013591199, 0.012524441, 0.00906593, -0.00...   Legal   \n",
       "4     [[-0.013591199, 0.012524441, 0.00906593, -0.00...   Legal   \n",
       "...                                                 ...     ...   \n",
       "2754  [[0.0045665326, 0.003025991, 0.00054588047, 0....  Ilegal   \n",
       "2755  [[0.004845, 0.01132209, 0.0071531744, -0.00087...   Legal   \n",
       "2756  [[-0.0043198504, 0.008011043, 0.009222714, -0....  Ilegal   \n",
       "2757  [[0.000407929, 0.0012072738, -0.0077722347, -0...   Legal   \n",
       "2758  [[-0.009602969, 0.0022720133, 0.007929392, 0.0...   Legal   \n",
       "\n",
       "                                                   link  \n",
       "0     https://shopee.co.id/️-LACTOGEN-PREMATUR-BBLR-...  \n",
       "1     https://shopee.co.id/‼️CUCI-GUDANG‼️-BATITA-1-...  \n",
       "2     https://shopee.co.id/‼️CUCI-GUDANG‼️-BATITA-1-...  \n",
       "3     https://shopee.co.id/‼️CUCI-GUDANG‼️-DATITA-3-...  \n",
       "4     https://shopee.co.id/‼️CUCI-GUDANG‼️-DATITA-3-...  \n",
       "...                                                 ...  \n",
       "2754  https://shopee.co.id/Ternak-Syams-Premium-Susu...  \n",
       "2755  https://shopee.co.id/Totole-kaldu-jamur-200-gr...  \n",
       "2756  https://shopee.co.id/Trieste-Italian-Syrup-650...  \n",
       "2757  https://shopee.co.id/Wilmond-Mandarin-Orange-i...  \n",
       "2758  https://shopee.co.id/Yomas-kornet-ayam-1-kg-is...  \n",
       "\n",
       "[2759 rows x 5 columns]"
      ]
     },
     "execution_count": 34,
     "metadata": {},
     "output_type": "execute_result"
    }
   ],
   "source": [
    "df_tokenized"
   ]
  },
  {
   "cell_type": "code",
   "execution_count": 35,
   "id": "85ed0bc6-092e-4769-a68d-452effc70792",
   "metadata": {
    "tags": []
   },
   "outputs": [
    {
     "name": "stderr",
     "output_type": "stream",
     "text": [
      "/var/folders/1k/rvddzkqj4yn9vwymqmntyzv00000gn/T/ipykernel_35096/4087821257.py:1: SettingWithCopyWarning: \n",
      "A value is trying to be set on a copy of a slice from a DataFrame.\n",
      "Try using .loc[row_indexer,col_indexer] = value instead\n",
      "\n",
      "See the caveats in the documentation: https://pandas.pydata.org/pandas-docs/stable/user_guide/indexing.html#returning-a-view-versus-a-copy\n",
      "  df_tokenized['label'] = df_tokenized['label'].replace({'Ilegal': 1, 'Legal': 0})\n"
     ]
    }
   ],
   "source": [
    "df_tokenized['label'] = df_tokenized['label'].replace({'Ilegal': 1, 'Legal': 0})"
   ]
  },
  {
   "cell_type": "code",
   "execution_count": 36,
   "id": "cc2de507-5811-4771-86eb-5cbc9fe01e8a",
   "metadata": {
    "tags": []
   },
   "outputs": [],
   "source": [
    "df_tokenized.to_csv('../../dataset/df_tokenized.csv', index=False)"
   ]
  },
  {
   "cell_type": "code",
   "execution_count": 37,
   "id": "d598aeaa-cbc4-4ecd-8638-5de25bbde6dd",
   "metadata": {
    "tags": []
   },
   "outputs": [
    {
     "data": {
      "text/html": [
       "<div>\n",
       "<style scoped>\n",
       "    .dataframe tbody tr th:only-of-type {\n",
       "        vertical-align: middle;\n",
       "    }\n",
       "\n",
       "    .dataframe tbody tr th {\n",
       "        vertical-align: top;\n",
       "    }\n",
       "\n",
       "    .dataframe thead th {\n",
       "        text-align: right;\n",
       "    }\n",
       "</style>\n",
       "<table border=\"1\" class=\"dataframe\">\n",
       "  <thead>\n",
       "    <tr style=\"text-align: right;\">\n",
       "      <th></th>\n",
       "      <th>title</th>\n",
       "      <th>tokenized_title</th>\n",
       "      <th>title_vectors</th>\n",
       "      <th>label</th>\n",
       "      <th>link</th>\n",
       "    </tr>\n",
       "  </thead>\n",
       "  <tbody>\n",
       "    <tr>\n",
       "      <th>0</th>\n",
       "      <td>️ LACTOGEN PREMATUR BBLR 400 GRAM</td>\n",
       "      <td>[️, LACTOGEN, PREMATUR, BBLR, 400, GRAM]</td>\n",
       "      <td>[[-0.0017641552, 0.010312495, 0.0037980191, 0....</td>\n",
       "      <td>0</td>\n",
       "      <td>https://shopee.co.id/️-LACTOGEN-PREMATUR-BBLR-...</td>\n",
       "    </tr>\n",
       "    <tr>\n",
       "      <th>1</th>\n",
       "      <td>‼️CUCI GUDANG‼️ BATITA 1+ 900GRAM | TANPA DUS ...</td>\n",
       "      <td>[‼️CUCI, GUDANG‼️, BATITA, 1+, 900GRAM, |, TAN...</td>\n",
       "      <td>[[-0.013591199, 0.012524441, 0.00906593, -0.00...</td>\n",
       "      <td>0</td>\n",
       "      <td>https://shopee.co.id/‼️CUCI-GUDANG‼️-BATITA-1-...</td>\n",
       "    </tr>\n",
       "    <tr>\n",
       "      <th>2</th>\n",
       "      <td>‼️CUCI GUDANG‼️ BATITA 1+ 900GRAM | VANILA | 1...</td>\n",
       "      <td>[‼️CUCI, GUDANG‼️, BATITA, 1+, 900GRAM, |, VAN...</td>\n",
       "      <td>[[-0.013591199, 0.012524441, 0.00906593, -0.00...</td>\n",
       "      <td>0</td>\n",
       "      <td>https://shopee.co.id/‼️CUCI-GUDANG‼️-BATITA-1-...</td>\n",
       "    </tr>\n",
       "    <tr>\n",
       "      <th>3</th>\n",
       "      <td>‼️CUCI GUDANG‼️ DATITA 3+ 900GRAM | TANPA DUS ...</td>\n",
       "      <td>[‼️CUCI, GUDANG‼️, DATITA, 3+, 900GRAM, |, TAN...</td>\n",
       "      <td>[[-0.013591199, 0.012524441, 0.00906593, -0.00...</td>\n",
       "      <td>0</td>\n",
       "      <td>https://shopee.co.id/‼️CUCI-GUDANG‼️-DATITA-3-...</td>\n",
       "    </tr>\n",
       "    <tr>\n",
       "      <th>4</th>\n",
       "      <td>‼️CUCI GUDANG‼️ DATITA 3+ 900GRAM | VANILA | 3...</td>\n",
       "      <td>[‼️CUCI, GUDANG‼️, DATITA, 3+, 900GRAM, |, VAN...</td>\n",
       "      <td>[[-0.013591199, 0.012524441, 0.00906593, -0.00...</td>\n",
       "      <td>0</td>\n",
       "      <td>https://shopee.co.id/‼️CUCI-GUDANG‼️-DATITA-3-...</td>\n",
       "    </tr>\n",
       "    <tr>\n",
       "      <th>...</th>\n",
       "      <td>...</td>\n",
       "      <td>...</td>\n",
       "      <td>...</td>\n",
       "      <td>...</td>\n",
       "      <td>...</td>\n",
       "    </tr>\n",
       "    <tr>\n",
       "      <th>2754</th>\n",
       "      <td>Ternak Syams - Premium Susu Kambing Etawa Kolo...</td>\n",
       "      <td>[Ternak, Syams, -, Premium, Susu, Kambing, Eta...</td>\n",
       "      <td>[[0.0045665326, 0.003025991, 0.00054588047, 0....</td>\n",
       "      <td>1</td>\n",
       "      <td>https://shopee.co.id/Ternak-Syams-Premium-Susu...</td>\n",
       "    </tr>\n",
       "    <tr>\n",
       "      <th>2755</th>\n",
       "      <td>Totole kaldu jamur 200 gram</td>\n",
       "      <td>[Totole, kaldu, jamur, 200, gram]</td>\n",
       "      <td>[[0.004845, 0.01132209, 0.0071531744, -0.00087...</td>\n",
       "      <td>0</td>\n",
       "      <td>https://shopee.co.id/Totole-kaldu-jamur-200-gr...</td>\n",
       "    </tr>\n",
       "    <tr>\n",
       "      <th>2756</th>\n",
       "      <td>Trieste Italian Syrup 650mL - Coffee Syrup : C...</td>\n",
       "      <td>[Trieste, Italian, Syrup, 650mL, -, Coffee, Sy...</td>\n",
       "      <td>[[-0.0043198504, 0.008011043, 0.009222714, -0....</td>\n",
       "      <td>1</td>\n",
       "      <td>https://shopee.co.id/Trieste-Italian-Syrup-650...</td>\n",
       "    </tr>\n",
       "    <tr>\n",
       "      <th>2757</th>\n",
       "      <td>Wilmond Mandarin Orange in Syrup 312gr - Buah ...</td>\n",
       "      <td>[Wilmond, Mandarin, Orange, in, Syrup, 312gr, ...</td>\n",
       "      <td>[[0.000407929, 0.0012072738, -0.0077722347, -0...</td>\n",
       "      <td>0</td>\n",
       "      <td>https://shopee.co.id/Wilmond-Mandarin-Orange-i...</td>\n",
       "    </tr>\n",
       "    <tr>\n",
       "      <th>2758</th>\n",
       "      <td>Yomas kornet ayam 1 kg isi 40</td>\n",
       "      <td>[Yomas, kornet, ayam, 1, kg, isi, 40]</td>\n",
       "      <td>[[-0.009602969, 0.0022720133, 0.007929392, 0.0...</td>\n",
       "      <td>0</td>\n",
       "      <td>https://shopee.co.id/Yomas-kornet-ayam-1-kg-is...</td>\n",
       "    </tr>\n",
       "  </tbody>\n",
       "</table>\n",
       "<p>2759 rows × 5 columns</p>\n",
       "</div>"
      ],
      "text/plain": [
       "                                                  title  \\\n",
       "0                     ️ LACTOGEN PREMATUR BBLR 400 GRAM   \n",
       "1     ‼️CUCI GUDANG‼️ BATITA 1+ 900GRAM | TANPA DUS ...   \n",
       "2     ‼️CUCI GUDANG‼️ BATITA 1+ 900GRAM | VANILA | 1...   \n",
       "3     ‼️CUCI GUDANG‼️ DATITA 3+ 900GRAM | TANPA DUS ...   \n",
       "4     ‼️CUCI GUDANG‼️ DATITA 3+ 900GRAM | VANILA | 3...   \n",
       "...                                                 ...   \n",
       "2754  Ternak Syams - Premium Susu Kambing Etawa Kolo...   \n",
       "2755                        Totole kaldu jamur 200 gram   \n",
       "2756  Trieste Italian Syrup 650mL - Coffee Syrup : C...   \n",
       "2757  Wilmond Mandarin Orange in Syrup 312gr - Buah ...   \n",
       "2758                      Yomas kornet ayam 1 kg isi 40   \n",
       "\n",
       "                                        tokenized_title  \\\n",
       "0              [️, LACTOGEN, PREMATUR, BBLR, 400, GRAM]   \n",
       "1     [‼️CUCI, GUDANG‼️, BATITA, 1+, 900GRAM, |, TAN...   \n",
       "2     [‼️CUCI, GUDANG‼️, BATITA, 1+, 900GRAM, |, VAN...   \n",
       "3     [‼️CUCI, GUDANG‼️, DATITA, 3+, 900GRAM, |, TAN...   \n",
       "4     [‼️CUCI, GUDANG‼️, DATITA, 3+, 900GRAM, |, VAN...   \n",
       "...                                                 ...   \n",
       "2754  [Ternak, Syams, -, Premium, Susu, Kambing, Eta...   \n",
       "2755                  [Totole, kaldu, jamur, 200, gram]   \n",
       "2756  [Trieste, Italian, Syrup, 650mL, -, Coffee, Sy...   \n",
       "2757  [Wilmond, Mandarin, Orange, in, Syrup, 312gr, ...   \n",
       "2758              [Yomas, kornet, ayam, 1, kg, isi, 40]   \n",
       "\n",
       "                                          title_vectors  label  \\\n",
       "0     [[-0.0017641552, 0.010312495, 0.0037980191, 0....      0   \n",
       "1     [[-0.013591199, 0.012524441, 0.00906593, -0.00...      0   \n",
       "2     [[-0.013591199, 0.012524441, 0.00906593, -0.00...      0   \n",
       "3     [[-0.013591199, 0.012524441, 0.00906593, -0.00...      0   \n",
       "4     [[-0.013591199, 0.012524441, 0.00906593, -0.00...      0   \n",
       "...                                                 ...    ...   \n",
       "2754  [[0.0045665326, 0.003025991, 0.00054588047, 0....      1   \n",
       "2755  [[0.004845, 0.01132209, 0.0071531744, -0.00087...      0   \n",
       "2756  [[-0.0043198504, 0.008011043, 0.009222714, -0....      1   \n",
       "2757  [[0.000407929, 0.0012072738, -0.0077722347, -0...      0   \n",
       "2758  [[-0.009602969, 0.0022720133, 0.007929392, 0.0...      0   \n",
       "\n",
       "                                                   link  \n",
       "0     https://shopee.co.id/️-LACTOGEN-PREMATUR-BBLR-...  \n",
       "1     https://shopee.co.id/‼️CUCI-GUDANG‼️-BATITA-1-...  \n",
       "2     https://shopee.co.id/‼️CUCI-GUDANG‼️-BATITA-1-...  \n",
       "3     https://shopee.co.id/‼️CUCI-GUDANG‼️-DATITA-3-...  \n",
       "4     https://shopee.co.id/‼️CUCI-GUDANG‼️-DATITA-3-...  \n",
       "...                                                 ...  \n",
       "2754  https://shopee.co.id/Ternak-Syams-Premium-Susu...  \n",
       "2755  https://shopee.co.id/Totole-kaldu-jamur-200-gr...  \n",
       "2756  https://shopee.co.id/Trieste-Italian-Syrup-650...  \n",
       "2757  https://shopee.co.id/Wilmond-Mandarin-Orange-i...  \n",
       "2758  https://shopee.co.id/Yomas-kornet-ayam-1-kg-is...  \n",
       "\n",
       "[2759 rows x 5 columns]"
      ]
     },
     "execution_count": 37,
     "metadata": {},
     "output_type": "execute_result"
    }
   ],
   "source": [
    "df_tokenized"
   ]
  },
  {
   "cell_type": "code",
   "execution_count": null,
   "id": "a165bbcc-8385-434b-8eb5-3dd0a99cf38b",
   "metadata": {},
   "outputs": [],
   "source": []
  }
 ],
 "metadata": {
  "kernelspec": {
   "display_name": "Python 3 (ipykernel)",
   "language": "python",
   "name": "python3"
  },
  "language_info": {
   "codemirror_mode": {
    "name": "ipython",
    "version": 3
   },
   "file_extension": ".py",
   "mimetype": "text/x-python",
   "name": "python",
   "nbconvert_exporter": "python",
   "pygments_lexer": "ipython3",
   "version": "3.11.5"
  }
 },
 "nbformat": 4,
 "nbformat_minor": 5
}
